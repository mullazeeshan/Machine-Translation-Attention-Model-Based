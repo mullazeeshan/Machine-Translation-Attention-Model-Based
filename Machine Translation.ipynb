{
 "cells": [
  {
   "cell_type": "markdown",
   "metadata": {
    "colab_type": "text",
    "id": "u2fxjo8R6ncI"
   },
   "source": [
    "## inspired from Coursera Deep Learning Specialization\n",
    "#### We use faker for generating Fake Dates"
   ]
  },
  {
   "cell_type": "code",
   "execution_count": 0,
   "metadata": {
    "colab": {},
    "colab_type": "code",
    "id": "Ptmk4sx34kGM"
   },
   "outputs": [],
   "source": [
    "!pip -q install faker\n",
    "from faker import Faker\n",
    "import numpy as np\n",
    "import random\n",
    "from babel.dates import format_date"
   ]
  },
  {
   "cell_type": "code",
   "execution_count": 0,
   "metadata": {
    "colab": {},
    "colab_type": "code",
    "id": "yQSr1YWk4rlG"
   },
   "outputs": [],
   "source": [
    "faker = Faker()\n",
    "faker.seed(5)\n",
    "np.random.seed(5)"
   ]
  },
  {
   "cell_type": "code",
   "execution_count": 0,
   "metadata": {
    "colab": {
     "base_uri": "https://localhost:8080/",
     "height": 476
    },
    "colab_type": "code",
    "id": "1hQQa7YG7IFA",
    "outputId": "157a53d1-8b41-48c3-f846-36276068b4eb"
   },
   "outputs": [
    {
     "name": "stdout",
     "output_type": "stream",
     "text": [
      "short => 5/22/12\n",
      "medium => May 21, 1987\n",
      "medium => May 26, 1994\n",
      "medium => Dec 26, 2016\n",
      "long => May 16, 2014\n",
      "long => January 26, 2006\n",
      "long => December 22, 1971\n",
      "long => September 8, 2001\n",
      "long => December 13, 1986\n",
      "full => Saturday, March 1, 2014\n",
      "full => Thursday, July 12, 1973\n",
      "full => Wednesday, September 3, 1980\n",
      "d MMM YYY => 14 Sep 1977\n",
      "d MMMM YYY => 20 April 1995\n",
      "d MMMM YYY => 2 December 2001\n",
      "d MMMM YYY => 12 October 1986\n",
      "d MMMM YYY => 29 November 1995\n",
      "d MMMM YYY => 2 January 2007\n",
      "dd/MM/YYY => 09/12/1976\n",
      "EE d, MMM YYY => Wed 21, Jan 2009\n",
      "EEEE d, MMMM YYY => Saturday 20, December 1986\n",
      "MMM d, YYY => Nov 22, 1970\n",
      "MMMM d, YYY => September 30, 1984\n",
      "YYY, d MMM => 1997, 10 Oct\n",
      "YYY, d MMMM => 1989, 7 January\n",
      "EE YYY, d MMMM => Sun 1982, 23 May\n",
      "EEEE YYY, d MM => Tuesday 1996, 2 07\n"
     ]
    }
   ],
   "source": [
    "#these are the date formats we are going to generate\n",
    "FORMATS = ['short','medium','medium','medium','long','long','long','long','long','full','full','full','d MMM YYY','d MMMM YYY',\n",
    "           'd MMMM YYY','d MMMM YYY','d MMMM YYY','d MMMM YYY','dd/MM/YYY','EE d, MMM YYY','EEEE d, MMMM YYY','MMM d, YYY',\n",
    "           'MMMM d, YYY','YYY, d MMM','YYY, d MMMM','EE YYY, d MMMM','EEEE YYY, d MM',]\n",
    "for format in FORMATS:\n",
    "    print('%s => %s' %(format, format_date(faker.date_object(), format=format, locale='en')))"
   ]
  },
  {
   "cell_type": "code",
   "execution_count": 0,
   "metadata": {
    "colab": {
     "base_uri": "https://localhost:8080/",
     "height": 34
    },
    "colab_type": "code",
    "id": "gCW4AFQy-Tg_",
    "outputId": "d825f6ec-0a9e-42fd-b5ba-da87d0e453de"
   },
   "outputs": [
    {
     "data": {
      "text/plain": [
       "('8 december 1627', '1627-12-08')"
      ]
     },
     "execution_count": 18,
     "metadata": {
      "tags": []
     },
     "output_type": "execute_result"
    }
   ],
   "source": [
    "def random_date():\n",
    "    dt = faker.date_between(start_date = '-500y',end_date='+50y')\n",
    "    try:\n",
    "        date = format_date(dt, format=random.choice(FORMATS), locale='en')\n",
    "        human_readable = date.lower().replace(',', '')\n",
    "        machine_readable = dt.isoformat()\n",
    "    except AttributeError as e:\n",
    "        return None, None, None\n",
    "    return human_readable, machine_readable\n",
    "random_date()"
   ]
  },
  {
   "cell_type": "code",
   "execution_count": 0,
   "metadata": {
    "colab": {
     "base_uri": "https://localhost:8080/",
     "height": 204
    },
    "colab_type": "code",
    "id": "eKEZyFaQ_HZd",
    "outputId": "46b88539-447c-4807-80c2-2c094223978a"
   },
   "outputs": [
    {
     "name": "stdout",
     "output_type": "stream",
     "text": [
      "50000 36 12\n"
     ]
    },
    {
     "data": {
      "text/plain": [
       "[('14 october 2011', '2011-10-14'),\n",
       " ('14 october 1672', '1672-10-14'),\n",
       " ('15 january 1638', '1638-01-15'),\n",
       " ('1789 2 apr', '1789-04-02'),\n",
       " ('1774 12 apr', '1774-04-12'),\n",
       " ('08/01/1831', '1831-01-08'),\n",
       " ('saturday 1786 27 05', '1786-05-27'),\n",
       " ('monday 1683 31 05', '1683-05-31'),\n",
       " ('17 july 1749', '1749-07-17'),\n",
       " ('may 21 2049', '2049-05-21')]"
      ]
     },
     "execution_count": 19,
     "metadata": {
      "tags": []
     },
     "output_type": "execute_result"
    }
   ],
   "source": [
    "human_vocab = set()\n",
    "machine_vocab = set()\n",
    "dataset = []\n",
    "m = 50000\n",
    "for i in range(m):\n",
    "  hd,md = random_date()\n",
    "  dataset.append((hd,md))\n",
    "  human_vocab.update( tuple(hd) )\n",
    "  machine_vocab.update( tuple(md) )\n",
    "  \n",
    "human_vocab.update(('<pad>','<unk>'))\n",
    "human_vocab = dict(enumerate(human_vocab))\n",
    "human_vocab = { v:i for i,v in human_vocab.items()  }\n",
    "\n",
    "machine_vocab.add('<unk>')\n",
    "machine_vocab = dict(enumerate(machine_vocab))\n",
    "inv_machine_vocab = { v:i for i,v in machine_vocab.items()}\n",
    "\n",
    "print(len(dataset),len(human_vocab),len(machine_vocab))\n",
    "dataset[:10]"
   ]
  },
  {
   "cell_type": "code",
   "execution_count": 0,
   "metadata": {
    "colab": {},
    "colab_type": "code",
    "id": "Vb4Zk8vMn3xv"
   },
   "outputs": [],
   "source": [
    "#test set\n",
    "t = 10000\n",
    "testset= []\n",
    "for i in range(t):\n",
    "  hd,md = random_date()\n",
    "  testset.append((hd,md))"
   ]
  },
  {
   "cell_type": "code",
   "execution_count": 0,
   "metadata": {
    "colab": {
     "base_uri": "https://localhost:8080/",
     "height": 34
    },
    "colab_type": "code",
    "id": "n_PZwK7tWJVJ",
    "outputId": "adb293c4-8850-449b-8aa8-fb14a0828340"
   },
   "outputs": [
    {
     "name": "stdout",
     "output_type": "stream",
     "text": [
      "36 12\n"
     ]
    }
   ],
   "source": [
    "HUMAN_VOCAB = len(human_vocab)\n",
    "MACHINE_VOCAB = len(machine_vocab)\n",
    "Tx = 30\n",
    "Ty = 10\n",
    "print( HUMAN_VOCAB, MACHINE_VOCAB )"
   ]
  },
  {
   "cell_type": "markdown",
   "metadata": {
    "colab_type": "text",
    "id": "esagXwG-VmEF"
   },
   "source": [
    "##  Converting Human readable dates to character vectors\n",
    "## Converting Machine Dates to character vectors"
   ]
  },
  {
   "cell_type": "code",
   "execution_count": 0,
   "metadata": {
    "colab": {},
    "colab_type": "code",
    "id": "EgT1M1o4ah57"
   },
   "outputs": [],
   "source": [
    "def string_to_ohe( string, T, vocab ):\n",
    "  string = string.lower()\n",
    "  arr = []\n",
    "  while len(arr) < len(string):\n",
    "    arr.append( vocab.get( string[len(arr)], vocab['<unk>']) )\n",
    "    \n",
    "  while len(arr) < T:\n",
    "    arr.append( vocab['<pad>'] )\n",
    "    \n",
    "  onehot = np.zeros( (T,len(vocab)) )\n",
    "  for i in range(T):\n",
    "    onehot[ i, arr[i] ] = 1\n",
    "  return onehot, arr\n",
    "\n",
    "def output_to_date( out, vocab ):\n",
    "  arr = np.argmax(out,axis=-1)\n",
    "  string = ''\n",
    "  for i in arr:\n",
    "    string += vocab[ i ]\n",
    "  return string"
   ]
  },
  {
   "cell_type": "code",
   "execution_count": 0,
   "metadata": {
    "colab": {
     "base_uri": "https://localhost:8080/",
     "height": 34
    },
    "colab_type": "code",
    "id": "TIzu5evxZiHq",
    "outputId": "c6959132-3c7a-4608-bdae-5c161252138b"
   },
   "outputs": [
    {
     "data": {
      "text/plain": [
       "((50000, 30, 36), (50000, 10, 12))"
      ]
     },
     "execution_count": 23,
     "metadata": {
      "tags": []
     },
     "output_type": "execute_result"
    }
   ],
   "source": [
    "X = []\n",
    "Y = []\n",
    "for x,y in dataset:\n",
    "  X.append( string_to_ohe(x, Tx, human_vocab)[0] )\n",
    "  Y.append( string_to_ohe(y, Ty, inv_machine_vocab)[0] )\n",
    "X,Y = np.array(X), np.array(Y)\n",
    "X.shape, Y.shape"
   ]
  },
  {
   "cell_type": "code",
   "execution_count": 0,
   "metadata": {
    "colab": {
     "base_uri": "https://localhost:8080/",
     "height": 34
    },
    "colab_type": "code",
    "id": "EZTMh9QioGVK",
    "outputId": "ba7b32e3-6eb1-4f2c-f9c3-e694840b4718"
   },
   "outputs": [
    {
     "data": {
      "text/plain": [
       "((10000, 30, 36), (10000, 10, 12))"
      ]
     },
     "execution_count": 24,
     "metadata": {
      "tags": []
     },
     "output_type": "execute_result"
    }
   ],
   "source": [
    "Xt, Yt = [],[]\n",
    "for x,y in testset:\n",
    "  Xt.append( string_to_ohe(x, Tx, human_vocab)[0] )\n",
    "  Yt.append( string_to_ohe(y, Ty, inv_machine_vocab)[0] )\n",
    "Xt,Yt = np.array(Xt), np.array(Yt)\n",
    "Xt.shape, Yt.shape"
   ]
  },
  {
   "cell_type": "markdown",
   "metadata": {
    "colab_type": "text",
    "id": "Gr4noLFaoI41"
   },
   "source": [
    "## Attention Model"
   ]
  },
  {
   "cell_type": "markdown",
   "metadata": {
    "colab_type": "text",
    "id": "GhJuSpFAqbsi"
   },
   "source": [
    "| Overall | Attention Mechanism |\n",
    "|-------------|------------------------|\n",
    "| ![alt text](https://github.com/adityajn105/Coursera-Deep-Learning-Specialization/raw/26cf7da29b2f1cb32799e045cc9cdfab99ad0757/4.%20Sequence%20Models/Week%203/Machine%20Translation/images/attn_model.png) | ![alt text](https://raw.githubusercontent.com/adityajn105/Coursera-Deep-Learning-Specialization/26cf7da29b2f1cb32799e045cc9cdfab99ad0757/4.%20Sequence%20Models/Week%203/Machine%20Translation/images/attn_mechanism.png) |"
   ]
  },
  {
   "cell_type": "markdown",
   "metadata": {
    "colab_type": "text",
    "id": "Qc4eJYBDe00L"
   },
   "source": [
    "* The post-attention LSTM passes $s^{\\langle t \\rangle}, c^{\\langle t \\rangle}$ from one time step to the next.\n",
    "* in this model the post-attention LSTM at time $t$ does will not take the specific generated $y^{\\langle t-1 \\rangle}$ as input; it only takes $s^{\\langle t\\rangle}$ and $c^{\\langle t\\rangle}$ as input. \n",
    "* We use $a^{\\langle t \\rangle} = [\\overrightarrow{a}^{\\langle t \\rangle}; \\overleftarrow{a}^{\\langle t \\rangle}]$ to represent the concatenation of the activations of both the forward-direction and backward-directions of the pre-attention Bi-LSTM.\n",
    "* The diagram on the right uses a RepeatVector node to copy $s^{\\langle t-1 \\rangle}$'s value $T_x$ times, and then Concatenation to concatenate $s^{\\langle t-1 \\rangle}$ and $a^{\\langle t \\rangle}$ to compute $e^{\\langle t, t'}$, which is then passed through a softmax to compute $\\alpha^{\\langle t, t' \\rangle}$. We'll explain how to use RepeatVector and Concatenation in Keras below.\n",
    "\n"
   ]
  },
  {
   "cell_type": "code",
   "execution_count": 0,
   "metadata": {
    "colab": {},
    "colab_type": "code",
    "id": "2In8L2LBmyRB"
   },
   "outputs": [],
   "source": [
    "from keras.layers import RepeatVector, Concatenate, Dense, Dot, Activation\n",
    "#combines activations generated from BiLSTM with previous state of Post LSTM cell to get attention to be given to each timestep\n",
    "#heart of attention model\n",
    "def one_step_attention( a, s_prev ):\n",
    "  x = RepeatVector(Tx)(s_prev)             #repeat s_prev Tx times\n",
    "  x = Concatenate(axis=-1)( [ a, x ] )     #concat each copy of s_prev with each timestep hidden state\n",
    "  e = Dense(10, activation='tanh')(x)      #pass each concatenated vector through Dense Layer to get intermediate energies\n",
    "  energy = Dense(1, activation='relu')(e)  #get timestep's energy \n",
    "  alphas = Activation('softmax')(energy)   #convert energy to probabilities i.e. attention weights\n",
    "  context = Dot(axes=1)([alphas,a])        #multiply attention weights and timestep hidden state to get context vector\n",
    "  return context"
   ]
  },
  {
   "cell_type": "code",
   "execution_count": 0,
   "metadata": {
    "colab": {},
    "colab_type": "code",
    "id": "ANS4c96Goy-g"
   },
   "outputs": [],
   "source": [
    "from keras.layers import Input, Bidirectional, LSTM\n",
    "from keras.models import Model\n",
    "\n",
    "n_a = 32 #pre attention LSTM state, since Bi directional attention=64\n",
    "n_s = 64 #post attention LSTM state\n",
    "\n",
    "inp = Input( (Tx, HUMAN_VOCAB ) )\n",
    "s0 = Input( (n_s,) )\n",
    "c0 = Input( (n_s,) )\n",
    "\n",
    "outputs = []\n",
    "\n",
    "s=s0\n",
    "c=c0\n",
    "a = Bidirectional( LSTM( n_a, return_sequences=True ) )(inp) #generate hidden state for every timestep\n",
    "\n",
    "\"https://machinelearningmastery.com/return-sequences-and-return-states-for-lstms-in-keras/\"\n",
    "postLSTM = LSTM( n_s, return_state = True)\n",
    "\n",
    "output = Dense( MACHINE_VOCAB, activation='softmax') #our final output layer\n",
    "\n",
    "for _ in range(Ty): #iterate for every output step\n",
    "  context = one_step_attention(a, s) #get context\n",
    "  s,_,c = postLSTM(context, initial_state=[s,c]) #generate cell_state_seq(currently 1), cell_state, memory  \n",
    "  out = output(s)\n",
    "  outputs.append(out)\n",
    "  \n",
    "model = Model( [inp,s0,c0], outputs )"
   ]
  },
  {
   "cell_type": "code",
   "execution_count": 0,
   "metadata": {
    "colab": {
     "base_uri": "https://localhost:8080/",
     "height": 2842
    },
    "colab_type": "code",
    "id": "3MwhPm4ovKqw",
    "outputId": "939a6a34-1e18-4a68-b552-73fdcc8fa56f"
   },
   "outputs": [
    {
     "name": "stdout",
     "output_type": "stream",
     "text": [
      "WARNING:tensorflow:From /usr/local/lib/python3.6/dist-packages/tensorflow/python/ops/math_ops.py:3066: to_int32 (from tensorflow.python.ops.math_ops) is deprecated and will be removed in a future version.\n",
      "Instructions for updating:\n",
      "Use tf.cast instead.\n",
      "WARNING:tensorflow:From /usr/local/lib/python3.6/dist-packages/tensorflow/python/ops/math_grad.py:102: div (from tensorflow.python.ops.math_ops) is deprecated and will be removed in a future version.\n",
      "Instructions for updating:\n",
      "Deprecated in favor of operator or tf.math.divide.\n",
      "Train on 50000 samples, validate on 10000 samples\n",
      "Epoch 1/100\n",
      "50000/50000 [==============================] - 78s 2ms/step - loss: 11.2930 - dense_22_loss: 1.9524 - dense_22_acc: 0.9110 - dense_22_acc_1: 0.5205 - dense_22_acc_2: 0.3751 - dense_22_acc_3: 0.3464 - dense_22_acc_4: 0.9391 - dense_22_acc_5: 0.7102 - dense_22_acc_6: 0.4292 - dense_22_acc_7: 0.8778 - dense_22_acc_8: 0.4971 - dense_22_acc_9: 0.2729 - val_loss: 6.9230 - val_dense_22_loss: 1.5244 - val_dense_22_acc: 0.9458 - val_dense_22_acc_1: 0.6220 - val_dense_22_acc_2: 0.4553 - val_dense_22_acc_3: 0.4309 - val_dense_22_acc_4: 0.9992 - val_dense_22_acc_5: 0.9759 - val_dense_22_acc_6: 0.8128 - val_dense_22_acc_7: 0.9993 - val_dense_22_acc_8: 0.7171 - val_dense_22_acc_9: 0.4053\n",
      "Epoch 2/100\n",
      "50000/50000 [==============================] - 64s 1ms/step - loss: 5.9541 - dense_22_loss: 1.3018 - dense_22_acc: 0.9556 - dense_22_acc_1: 0.6506 - dense_22_acc_2: 0.4731 - dense_22_acc_3: 0.4826 - dense_22_acc_4: 1.0000 - dense_22_acc_5: 0.9772 - dense_22_acc_6: 0.8734 - dense_22_acc_7: 0.9997 - dense_22_acc_8: 0.8007 - dense_22_acc_9: 0.4940 - val_loss: 5.2740 - val_dense_22_loss: 1.1027 - val_dense_22_acc: 0.9615 - val_dense_22_acc_1: 0.6856 - val_dense_22_acc_2: 0.4899 - val_dense_22_acc_3: 0.5007 - val_dense_22_acc_4: 1.0000 - val_dense_22_acc_5: 0.9793 - val_dense_22_acc_6: 0.8962 - val_dense_22_acc_7: 0.9992 - val_dense_22_acc_8: 0.8417 - val_dense_22_acc_9: 0.5873\n",
      "Epoch 3/100\n",
      "50000/50000 [==============================] - 63s 1ms/step - loss: 4.7655 - dense_22_loss: 0.9635 - dense_22_acc: 0.9681 - dense_22_acc_1: 0.7266 - dense_22_acc_2: 0.5224 - dense_22_acc_3: 0.5386 - dense_22_acc_4: 0.9999 - dense_22_acc_5: 0.9794 - dense_22_acc_6: 0.9116 - dense_22_acc_7: 0.9999 - dense_22_acc_8: 0.8562 - dense_22_acc_9: 0.6617 - val_loss: 4.3319 - val_dense_22_loss: 0.8367 - val_dense_22_acc: 0.9734 - val_dense_22_acc_1: 0.7734 - val_dense_22_acc_2: 0.5596 - val_dense_22_acc_3: 0.5489 - val_dense_22_acc_4: 1.0000 - val_dense_22_acc_5: 0.9821 - val_dense_22_acc_6: 0.9144 - val_dense_22_acc_7: 0.9998 - val_dense_22_acc_8: 0.8767 - val_dense_22_acc_9: 0.7216\n",
      "Epoch 4/100\n",
      "50000/50000 [==============================] - 63s 1ms/step - loss: 3.9320 - dense_22_loss: 0.7436 - dense_22_acc: 0.9787 - dense_22_acc_1: 0.8144 - dense_22_acc_2: 0.5977 - dense_22_acc_3: 0.5962 - dense_22_acc_4: 1.0000 - dense_22_acc_5: 0.9819 - dense_22_acc_6: 0.9218 - dense_22_acc_7: 0.9999 - dense_22_acc_8: 0.8837 - dense_22_acc_9: 0.7622 - val_loss: 3.5797 - val_dense_22_loss: 0.6639 - val_dense_22_acc: 0.9849 - val_dense_22_acc_1: 0.8560 - val_dense_22_acc_2: 0.6329 - val_dense_22_acc_3: 0.6281 - val_dense_22_acc_4: 1.0000 - val_dense_22_acc_5: 0.9840 - val_dense_22_acc_6: 0.9269 - val_dense_22_acc_7: 0.9999 - val_dense_22_acc_8: 0.8966 - val_dense_22_acc_9: 0.7867\n",
      "Epoch 5/100\n",
      "50000/50000 [==============================] - 63s 1ms/step - loss: 3.2703 - dense_22_loss: 0.6105 - dense_22_acc: 0.9858 - dense_22_acc_1: 0.8781 - dense_22_acc_2: 0.6822 - dense_22_acc_3: 0.6796 - dense_22_acc_4: 0.9999 - dense_22_acc_5: 0.9825 - dense_22_acc_6: 0.9306 - dense_22_acc_7: 0.9999 - dense_22_acc_8: 0.9016 - dense_22_acc_9: 0.8034 - val_loss: 3.0133 - val_dense_22_loss: 0.5659 - val_dense_22_acc: 0.9897 - val_dense_22_acc_1: 0.8939 - val_dense_22_acc_2: 0.7204 - val_dense_22_acc_3: 0.7142 - val_dense_22_acc_4: 1.0000 - val_dense_22_acc_5: 0.9854 - val_dense_22_acc_6: 0.9276 - val_dense_22_acc_7: 0.9998 - val_dense_22_acc_8: 0.9053 - val_dense_22_acc_9: 0.8147\n",
      "Epoch 6/100\n",
      "50000/50000 [==============================] - 63s 1ms/step - loss: 2.7557 - dense_22_loss: 0.5251 - dense_22_acc: 0.9900 - dense_22_acc_1: 0.9100 - dense_22_acc_2: 0.7670 - dense_22_acc_3: 0.7624 - dense_22_acc_4: 0.9998 - dense_22_acc_5: 0.9837 - dense_22_acc_6: 0.9348 - dense_22_acc_7: 0.9999 - dense_22_acc_8: 0.9109 - dense_22_acc_9: 0.8286 - val_loss: 2.5678 - val_dense_22_loss: 0.4963 - val_dense_22_acc: 0.9918 - val_dense_22_acc_1: 0.9168 - val_dense_22_acc_2: 0.7919 - val_dense_22_acc_3: 0.7896 - val_dense_22_acc_4: 1.0000 - val_dense_22_acc_5: 0.9849 - val_dense_22_acc_6: 0.9366 - val_dense_22_acc_7: 0.9998 - val_dense_22_acc_8: 0.9175 - val_dense_22_acc_9: 0.8356\n",
      "Epoch 7/100\n",
      "50000/50000 [==============================] - 62s 1ms/step - loss: 2.3874 - dense_22_loss: 0.4592 - dense_22_acc: 0.9911 - dense_22_acc_1: 0.9294 - dense_22_acc_2: 0.8234 - dense_22_acc_3: 0.8136 - dense_22_acc_4: 0.9999 - dense_22_acc_5: 0.9846 - dense_22_acc_6: 0.9382 - dense_22_acc_7: 0.9999 - dense_22_acc_8: 0.9197 - dense_22_acc_9: 0.8489 - val_loss: 2.2623 - val_dense_22_loss: 0.4340 - val_dense_22_acc: 0.9923 - val_dense_22_acc_1: 0.9319 - val_dense_22_acc_2: 0.8368 - val_dense_22_acc_3: 0.8256 - val_dense_22_acc_4: 1.0000 - val_dense_22_acc_5: 0.9857 - val_dense_22_acc_6: 0.9385 - val_dense_22_acc_7: 0.9998 - val_dense_22_acc_8: 0.9253 - val_dense_22_acc_9: 0.8548\n",
      "Epoch 8/100\n",
      "50000/50000 [==============================] - 62s 1ms/step - loss: 2.1249 - dense_22_loss: 0.4080 - dense_22_acc: 0.9917 - dense_22_acc_1: 0.9398 - dense_22_acc_2: 0.8571 - dense_22_acc_3: 0.8414 - dense_22_acc_4: 0.9999 - dense_22_acc_5: 0.9851 - dense_22_acc_6: 0.9411 - dense_22_acc_7: 0.9999 - dense_22_acc_8: 0.9256 - dense_22_acc_9: 0.8646 - val_loss: 2.0413 - val_dense_22_loss: 0.3934 - val_dense_22_acc: 0.9930 - val_dense_22_acc_1: 0.9406 - val_dense_22_acc_2: 0.8671 - val_dense_22_acc_3: 0.8451 - val_dense_22_acc_4: 0.9999 - val_dense_22_acc_5: 0.9856 - val_dense_22_acc_6: 0.9405 - val_dense_22_acc_7: 0.9999 - val_dense_22_acc_8: 0.9291 - val_dense_22_acc_9: 0.8657\n",
      "Epoch 9/100\n",
      "50000/50000 [==============================] - 62s 1ms/step - loss: 1.9263 - dense_22_loss: 0.3676 - dense_22_acc: 0.9922 - dense_22_acc_1: 0.9459 - dense_22_acc_2: 0.8800 - dense_22_acc_3: 0.8589 - dense_22_acc_4: 0.9999 - dense_22_acc_5: 0.9853 - dense_22_acc_6: 0.9423 - dense_22_acc_7: 1.0000 - dense_22_acc_8: 0.9303 - dense_22_acc_9: 0.8780 - val_loss: 1.8848 - val_dense_22_loss: 0.3600 - val_dense_22_acc: 0.9931 - val_dense_22_acc_1: 0.9441 - val_dense_22_acc_2: 0.8847 - val_dense_22_acc_3: 0.8578 - val_dense_22_acc_4: 1.0000 - val_dense_22_acc_5: 0.9852 - val_dense_22_acc_6: 0.9387 - val_dense_22_acc_7: 0.9999 - val_dense_22_acc_8: 0.9318 - val_dense_22_acc_9: 0.8768\n",
      "Epoch 10/100\n",
      "50000/50000 [==============================] - 63s 1ms/step - loss: 1.7686 - dense_22_loss: 0.3371 - dense_22_acc: 0.9924 - dense_22_acc_1: 0.9498 - dense_22_acc_2: 0.8977 - dense_22_acc_3: 0.8744 - dense_22_acc_4: 1.0000 - dense_22_acc_5: 0.9858 - dense_22_acc_6: 0.9446 - dense_22_acc_7: 1.0000 - dense_22_acc_8: 0.9350 - dense_22_acc_9: 0.8882 - val_loss: 1.7324 - val_dense_22_loss: 0.3288 - val_dense_22_acc: 0.9932 - val_dense_22_acc_1: 0.9485 - val_dense_22_acc_2: 0.9018 - val_dense_22_acc_3: 0.8752 - val_dense_22_acc_4: 1.0000 - val_dense_22_acc_5: 0.9871 - val_dense_22_acc_6: 0.9435 - val_dense_22_acc_7: 1.0000 - val_dense_22_acc_8: 0.9358 - val_dense_22_acc_9: 0.8867\n",
      "Epoch 11/100\n",
      "50000/50000 [==============================] - 63s 1ms/step - loss: 1.6396 - dense_22_loss: 0.3109 - dense_22_acc: 0.9929 - dense_22_acc_1: 0.9526 - dense_22_acc_2: 0.9121 - dense_22_acc_3: 0.8874 - dense_22_acc_4: 1.0000 - dense_22_acc_5: 0.9864 - dense_22_acc_6: 0.9460 - dense_22_acc_7: 1.0000 - dense_22_acc_8: 0.9380 - dense_22_acc_9: 0.8955 - val_loss: 1.6210 - val_dense_22_loss: 0.3071 - val_dense_22_acc: 0.9932 - val_dense_22_acc_1: 0.9508 - val_dense_22_acc_2: 0.9106 - val_dense_22_acc_3: 0.8903 - val_dense_22_acc_4: 1.0000 - val_dense_22_acc_5: 0.9867 - val_dense_22_acc_6: 0.9426 - val_dense_22_acc_7: 1.0000 - val_dense_22_acc_8: 0.9377 - val_dense_22_acc_9: 0.8947\n",
      "Epoch 12/100\n",
      "50000/50000 [==============================] - 62s 1ms/step - loss: 1.5309 - dense_22_loss: 0.2887 - dense_22_acc: 0.9929 - dense_22_acc_1: 0.9548 - dense_22_acc_2: 0.9228 - dense_22_acc_3: 0.8979 - dense_22_acc_4: 1.0000 - dense_22_acc_5: 0.9863 - dense_22_acc_6: 0.9470 - dense_22_acc_7: 1.0000 - dense_22_acc_8: 0.9413 - dense_22_acc_9: 0.9038 - val_loss: 1.5158 - val_dense_22_loss: 0.2876 - val_dense_22_acc: 0.9937 - val_dense_22_acc_1: 0.9525 - val_dense_22_acc_2: 0.9236 - val_dense_22_acc_3: 0.8991 - val_dense_22_acc_4: 1.0000 - val_dense_22_acc_5: 0.9876 - val_dense_22_acc_6: 0.9436 - val_dense_22_acc_7: 1.0000 - val_dense_22_acc_8: 0.9428 - val_dense_22_acc_9: 0.9014\n",
      "Epoch 13/100\n",
      "50000/50000 [==============================] - 62s 1ms/step - loss: 1.4374 - dense_22_loss: 0.2704 - dense_22_acc: 0.9931 - dense_22_acc_1: 0.9563 - dense_22_acc_2: 0.9322 - dense_22_acc_3: 0.9083 - dense_22_acc_4: 1.0000 - dense_22_acc_5: 0.9866 - dense_22_acc_6: 0.9479 - dense_22_acc_7: 1.0000 - dense_22_acc_8: 0.9443 - dense_22_acc_9: 0.9098 - val_loss: 1.4325 - val_dense_22_loss: 0.2707 - val_dense_22_acc: 0.9936 - val_dense_22_acc_1: 0.9542 - val_dense_22_acc_2: 0.9311 - val_dense_22_acc_3: 0.9080 - val_dense_22_acc_4: 1.0000 - val_dense_22_acc_5: 0.9870 - val_dense_22_acc_6: 0.9446 - val_dense_22_acc_7: 1.0000 - val_dense_22_acc_8: 0.9435 - val_dense_22_acc_9: 0.9071\n",
      "Epoch 14/100\n",
      "50000/50000 [==============================] - 62s 1ms/step - loss: 1.3558 - dense_22_loss: 0.2550 - dense_22_acc: 0.9933 - dense_22_acc_1: 0.9577 - dense_22_acc_2: 0.9384 - dense_22_acc_3: 0.9166 - dense_22_acc_4: 1.0000 - dense_22_acc_5: 0.9871 - dense_22_acc_6: 0.9487 - dense_22_acc_7: 1.0000 - dense_22_acc_8: 0.9473 - dense_22_acc_9: 0.9163 - val_loss: 1.3577 - val_dense_22_loss: 0.2590 - val_dense_22_acc: 0.9940 - val_dense_22_acc_1: 0.9551 - val_dense_22_acc_2: 0.9378 - val_dense_22_acc_3: 0.9149 - val_dense_22_acc_4: 1.0000 - val_dense_22_acc_5: 0.9875 - val_dense_22_acc_6: 0.9468 - val_dense_22_acc_7: 1.0000 - val_dense_22_acc_8: 0.9478 - val_dense_22_acc_9: 0.9107\n",
      "Epoch 15/100\n",
      "50000/50000 [==============================] - 62s 1ms/step - loss: 1.2846 - dense_22_loss: 0.2407 - dense_22_acc: 0.9933 - dense_22_acc_1: 0.9594 - dense_22_acc_2: 0.9458 - dense_22_acc_3: 0.9249 - dense_22_acc_4: 1.0000 - dense_22_acc_5: 0.9871 - dense_22_acc_6: 0.9499 - dense_22_acc_7: 1.0000 - dense_22_acc_8: 0.9498 - dense_22_acc_9: 0.9210 - val_loss: 1.3039 - val_dense_22_loss: 0.2471 - val_dense_22_acc: 0.9940 - val_dense_22_acc_1: 0.9571 - val_dense_22_acc_2: 0.9429 - val_dense_22_acc_3: 0.9199 - val_dense_22_acc_4: 1.0000 - val_dense_22_acc_5: 0.9877 - val_dense_22_acc_6: 0.9450 - val_dense_22_acc_7: 1.0000 - val_dense_22_acc_8: 0.9496 - val_dense_22_acc_9: 0.9157\n",
      "Epoch 16/100\n",
      "50000/50000 [==============================] - 62s 1ms/step - loss: 1.2213 - dense_22_loss: 0.2288 - dense_22_acc: 0.9935 - dense_22_acc_1: 0.9606 - dense_22_acc_2: 0.9508 - dense_22_acc_3: 0.9304 - dense_22_acc_4: 1.0000 - dense_22_acc_5: 0.9875 - dense_22_acc_6: 0.9509 - dense_22_acc_7: 1.0000 - dense_22_acc_8: 0.9520 - dense_22_acc_9: 0.9248 - val_loss: 1.2377 - val_dense_22_loss: 0.2352 - val_dense_22_acc: 0.9941 - val_dense_22_acc_1: 0.9572 - val_dense_22_acc_2: 0.9464 - val_dense_22_acc_3: 0.9295 - val_dense_22_acc_4: 1.0000 - val_dense_22_acc_5: 0.9877 - val_dense_22_acc_6: 0.9465 - val_dense_22_acc_7: 1.0000 - val_dense_22_acc_8: 0.9514 - val_dense_22_acc_9: 0.9196\n",
      "Epoch 17/100\n",
      "50000/50000 [==============================] - 63s 1ms/step - loss: 1.1651 - dense_22_loss: 0.2181 - dense_22_acc: 0.9937 - dense_22_acc_1: 0.9613 - dense_22_acc_2: 0.9553 - dense_22_acc_3: 0.9366 - dense_22_acc_4: 1.0000 - dense_22_acc_5: 0.9869 - dense_22_acc_6: 0.9508 - dense_22_acc_7: 1.0000 - dense_22_acc_8: 0.9548 - dense_22_acc_9: 0.9290 - val_loss: 1.1781 - val_dense_22_loss: 0.2228 - val_dense_22_acc: 0.9944 - val_dense_22_acc_1: 0.9585 - val_dense_22_acc_2: 0.9513 - val_dense_22_acc_3: 0.9353 - val_dense_22_acc_4: 1.0000 - val_dense_22_acc_5: 0.9880 - val_dense_22_acc_6: 0.9469 - val_dense_22_acc_7: 1.0000 - val_dense_22_acc_8: 0.9522 - val_dense_22_acc_9: 0.9244\n",
      "Epoch 18/100\n",
      "50000/50000 [==============================] - 62s 1ms/step - loss: 1.1160 - dense_22_loss: 0.2091 - dense_22_acc: 0.9937 - dense_22_acc_1: 0.9617 - dense_22_acc_2: 0.9599 - dense_22_acc_3: 0.9401 - dense_22_acc_4: 1.0000 - dense_22_acc_5: 0.9876 - dense_22_acc_6: 0.9514 - dense_22_acc_7: 1.0000 - dense_22_acc_8: 0.9571 - dense_22_acc_9: 0.9331 - val_loss: 1.1307 - val_dense_22_loss: 0.2144 - val_dense_22_acc: 0.9943 - val_dense_22_acc_1: 0.9587 - val_dense_22_acc_2: 0.9570 - val_dense_22_acc_3: 0.9396 - val_dense_22_acc_4: 1.0000 - val_dense_22_acc_5: 0.9880 - val_dense_22_acc_6: 0.9491 - val_dense_22_acc_7: 1.0000 - val_dense_22_acc_8: 0.9536 - val_dense_22_acc_9: 0.9284\n",
      "Epoch 19/100\n",
      "50000/50000 [==============================] - 62s 1ms/step - loss: 1.0706 - dense_22_loss: 0.2000 - dense_22_acc: 0.9938 - dense_22_acc_1: 0.9624 - dense_22_acc_2: 0.9629 - dense_22_acc_3: 0.9446 - dense_22_acc_4: 1.0000 - dense_22_acc_5: 0.9877 - dense_22_acc_6: 0.9527 - dense_22_acc_7: 1.0000 - dense_22_acc_8: 0.9578 - dense_22_acc_9: 0.9369 - val_loss: 1.0926 - val_dense_22_loss: 0.2087 - val_dense_22_acc: 0.9946 - val_dense_22_acc_1: 0.9601 - val_dense_22_acc_2: 0.9602 - val_dense_22_acc_3: 0.9444 - val_dense_22_acc_4: 1.0000 - val_dense_22_acc_5: 0.9879 - val_dense_22_acc_6: 0.9498 - val_dense_22_acc_7: 1.0000 - val_dense_22_acc_8: 0.9562 - val_dense_22_acc_9: 0.9286\n",
      "Epoch 20/100\n",
      "50000/50000 [==============================] - 63s 1ms/step - loss: 1.0303 - dense_22_loss: 0.1925 - dense_22_acc: 0.9939 - dense_22_acc_1: 0.9627 - dense_22_acc_2: 0.9660 - dense_22_acc_3: 0.9486 - dense_22_acc_4: 1.0000 - dense_22_acc_5: 0.9877 - dense_22_acc_6: 0.9529 - dense_22_acc_7: 1.0000 - dense_22_acc_8: 0.9597 - dense_22_acc_9: 0.9395 - val_loss: 1.0570 - val_dense_22_loss: 0.2037 - val_dense_22_acc: 0.9948 - val_dense_22_acc_1: 0.9600 - val_dense_22_acc_2: 0.9624 - val_dense_22_acc_3: 0.9455 - val_dense_22_acc_4: 1.0000 - val_dense_22_acc_5: 0.9885 - val_dense_22_acc_6: 0.9498 - val_dense_22_acc_7: 1.0000 - val_dense_22_acc_8: 0.9579 - val_dense_22_acc_9: 0.9316\n",
      "Epoch 21/100\n",
      "50000/50000 [==============================] - 62s 1ms/step - loss: 0.9933 - dense_22_loss: 0.1850 - dense_22_acc: 0.9940 - dense_22_acc_1: 0.9633 - dense_22_acc_2: 0.9689 - dense_22_acc_3: 0.9521 - dense_22_acc_4: 1.0000 - dense_22_acc_5: 0.9877 - dense_22_acc_6: 0.9541 - dense_22_acc_7: 1.0000 - dense_22_acc_8: 0.9620 - dense_22_acc_9: 0.9421 - val_loss: 1.0159 - val_dense_22_loss: 0.1922 - val_dense_22_acc: 0.9949 - val_dense_22_acc_1: 0.9611 - val_dense_22_acc_2: 0.9663 - val_dense_22_acc_3: 0.9488 - val_dense_22_acc_4: 1.0000 - val_dense_22_acc_5: 0.9885 - val_dense_22_acc_6: 0.9494 - val_dense_22_acc_7: 1.0000 - val_dense_22_acc_8: 0.9591 - val_dense_22_acc_9: 0.9369\n",
      "Epoch 22/100\n",
      "50000/50000 [==============================] - 62s 1ms/step - loss: 0.9595 - dense_22_loss: 0.1781 - dense_22_acc: 0.9940 - dense_22_acc_1: 0.9637 - dense_22_acc_2: 0.9711 - dense_22_acc_3: 0.9545 - dense_22_acc_4: 1.0000 - dense_22_acc_5: 0.9879 - dense_22_acc_6: 0.9541 - dense_22_acc_7: 1.0000 - dense_22_acc_8: 0.9633 - dense_22_acc_9: 0.9447 - val_loss: 0.9861 - val_dense_22_loss: 0.1879 - val_dense_22_acc: 0.9949 - val_dense_22_acc_1: 0.9614 - val_dense_22_acc_2: 0.9675 - val_dense_22_acc_3: 0.9527 - val_dense_22_acc_4: 1.0000 - val_dense_22_acc_5: 0.9886 - val_dense_22_acc_6: 0.9509 - val_dense_22_acc_7: 1.0000 - val_dense_22_acc_8: 0.9604 - val_dense_22_acc_9: 0.9395\n",
      "Epoch 23/100\n",
      "50000/50000 [==============================] - 62s 1ms/step - loss: 0.9288 - dense_22_loss: 0.1724 - dense_22_acc: 0.9941 - dense_22_acc_1: 0.9642 - dense_22_acc_2: 0.9730 - dense_22_acc_3: 0.9569 - dense_22_acc_4: 1.0000 - dense_22_acc_5: 0.9880 - dense_22_acc_6: 0.9543 - dense_22_acc_7: 1.0000 - dense_22_acc_8: 0.9648 - dense_22_acc_9: 0.9471 - val_loss: 0.9588 - val_dense_22_loss: 0.1822 - val_dense_22_acc: 0.9951 - val_dense_22_acc_1: 0.9626 - val_dense_22_acc_2: 0.9691 - val_dense_22_acc_3: 0.9556 - val_dense_22_acc_4: 1.0000 - val_dense_22_acc_5: 0.9883 - val_dense_22_acc_6: 0.9502 - val_dense_22_acc_7: 1.0000 - val_dense_22_acc_8: 0.9620 - val_dense_22_acc_9: 0.9419\n",
      "Epoch 24/100\n",
      "50000/50000 [==============================] - 62s 1ms/step - loss: 0.9001 - dense_22_loss: 0.1667 - dense_22_acc: 0.9941 - dense_22_acc_1: 0.9644 - dense_22_acc_2: 0.9748 - dense_22_acc_3: 0.9590 - dense_22_acc_4: 1.0000 - dense_22_acc_5: 0.9883 - dense_22_acc_6: 0.9548 - dense_22_acc_7: 1.0000 - dense_22_acc_8: 0.9659 - dense_22_acc_9: 0.9493 - val_loss: 0.9292 - val_dense_22_loss: 0.1757 - val_dense_22_acc: 0.9951 - val_dense_22_acc_1: 0.9633 - val_dense_22_acc_2: 0.9718 - val_dense_22_acc_3: 0.9570 - val_dense_22_acc_4: 1.0000 - val_dense_22_acc_5: 0.9889 - val_dense_22_acc_6: 0.9509 - val_dense_22_acc_7: 1.0000 - val_dense_22_acc_8: 0.9634 - val_dense_22_acc_9: 0.9433\n",
      "Epoch 25/100\n",
      "50000/50000 [==============================] - 62s 1ms/step - loss: 0.8743 - dense_22_loss: 0.1615 - dense_22_acc: 0.9941 - dense_22_acc_1: 0.9646 - dense_22_acc_2: 0.9760 - dense_22_acc_3: 0.9615 - dense_22_acc_4: 1.0000 - dense_22_acc_5: 0.9884 - dense_22_acc_6: 0.9554 - dense_22_acc_7: 1.0000 - dense_22_acc_8: 0.9671 - dense_22_acc_9: 0.9504 - val_loss: 0.9014 - val_dense_22_loss: 0.1706 - val_dense_22_acc: 0.9952 - val_dense_22_acc_1: 0.9635 - val_dense_22_acc_2: 0.9725 - val_dense_22_acc_3: 0.9585 - val_dense_22_acc_4: 1.0000 - val_dense_22_acc_5: 0.9891 - val_dense_22_acc_6: 0.9507 - val_dense_22_acc_7: 1.0000 - val_dense_22_acc_8: 0.9674 - val_dense_22_acc_9: 0.9465\n",
      "Epoch 26/100\n",
      "50000/50000 [==============================] - 61s 1ms/step - loss: 0.8507 - dense_22_loss: 0.1571 - dense_22_acc: 0.9941 - dense_22_acc_1: 0.9650 - dense_22_acc_2: 0.9780 - dense_22_acc_3: 0.9632 - dense_22_acc_4: 1.0000 - dense_22_acc_5: 0.9885 - dense_22_acc_6: 0.9564 - dense_22_acc_7: 1.0000 - dense_22_acc_8: 0.9686 - dense_22_acc_9: 0.9528 - val_loss: 0.8794 - val_dense_22_loss: 0.1677 - val_dense_22_acc: 0.9953 - val_dense_22_acc_1: 0.9636 - val_dense_22_acc_2: 0.9749 - val_dense_22_acc_3: 0.9617 - val_dense_22_acc_4: 1.0000 - val_dense_22_acc_5: 0.9894 - val_dense_22_acc_6: 0.9520 - val_dense_22_acc_7: 1.0000 - val_dense_22_acc_8: 0.9672 - val_dense_22_acc_9: 0.9463\n",
      "Epoch 27/100\n",
      "50000/50000 [==============================] - 62s 1ms/step - loss: 0.8274 - dense_22_loss: 0.1524 - dense_22_acc: 0.9942 - dense_22_acc_1: 0.9651 - dense_22_acc_2: 0.9794 - dense_22_acc_3: 0.9648 - dense_22_acc_4: 1.0000 - dense_22_acc_5: 0.9886 - dense_22_acc_6: 0.9568 - dense_22_acc_7: 1.0000 - dense_22_acc_8: 0.9696 - dense_22_acc_9: 0.9534 - val_loss: 0.8572 - val_dense_22_loss: 0.1624 - val_dense_22_acc: 0.9952 - val_dense_22_acc_1: 0.9641 - val_dense_22_acc_2: 0.9761 - val_dense_22_acc_3: 0.9653 - val_dense_22_acc_4: 1.0000 - val_dense_22_acc_5: 0.9894 - val_dense_22_acc_6: 0.9521 - val_dense_22_acc_7: 1.0000 - val_dense_22_acc_8: 0.9675 - val_dense_22_acc_9: 0.9492\n",
      "Epoch 28/100\n",
      "50000/50000 [==============================] - 62s 1ms/step - loss: 0.8068 - dense_22_loss: 0.1484 - dense_22_acc: 0.9941 - dense_22_acc_1: 0.9654 - dense_22_acc_2: 0.9805 - dense_22_acc_3: 0.9665 - dense_22_acc_4: 1.0000 - dense_22_acc_5: 0.9889 - dense_22_acc_6: 0.9570 - dense_22_acc_7: 1.0000 - dense_22_acc_8: 0.9707 - dense_22_acc_9: 0.9558 - val_loss: 0.8372 - val_dense_22_loss: 0.1587 - val_dense_22_acc: 0.9955 - val_dense_22_acc_1: 0.9646 - val_dense_22_acc_2: 0.9763 - val_dense_22_acc_3: 0.9654 - val_dense_22_acc_4: 1.0000 - val_dense_22_acc_5: 0.9894 - val_dense_22_acc_6: 0.9527 - val_dense_22_acc_7: 1.0000 - val_dense_22_acc_8: 0.9693 - val_dense_22_acc_9: 0.9486\n",
      "Epoch 29/100\n",
      "50000/50000 [==============================] - 62s 1ms/step - loss: 0.7873 - dense_22_loss: 0.1443 - dense_22_acc: 0.9942 - dense_22_acc_1: 0.9656 - dense_22_acc_2: 0.9815 - dense_22_acc_3: 0.9681 - dense_22_acc_4: 1.0000 - dense_22_acc_5: 0.9888 - dense_22_acc_6: 0.9578 - dense_22_acc_7: 1.0000 - dense_22_acc_8: 0.9720 - dense_22_acc_9: 0.9568 - val_loss: 0.8197 - val_dense_22_loss: 0.1554 - val_dense_22_acc: 0.9954 - val_dense_22_acc_1: 0.9642 - val_dense_22_acc_2: 0.9776 - val_dense_22_acc_3: 0.9672 - val_dense_22_acc_4: 1.0000 - val_dense_22_acc_5: 0.9893 - val_dense_22_acc_6: 0.9536 - val_dense_22_acc_7: 1.0000 - val_dense_22_acc_8: 0.9693 - val_dense_22_acc_9: 0.9494\n",
      "Epoch 30/100\n",
      "50000/50000 [==============================] - 62s 1ms/step - loss: 0.7696 - dense_22_loss: 0.1411 - dense_22_acc: 0.9942 - dense_22_acc_1: 0.9659 - dense_22_acc_2: 0.9827 - dense_22_acc_3: 0.9694 - dense_22_acc_4: 1.0000 - dense_22_acc_5: 0.9890 - dense_22_acc_6: 0.9576 - dense_22_acc_7: 1.0000 - dense_22_acc_8: 0.9730 - dense_22_acc_9: 0.9579 - val_loss: 0.8006 - val_dense_22_loss: 0.1519 - val_dense_22_acc: 0.9953 - val_dense_22_acc_1: 0.9641 - val_dense_22_acc_2: 0.9790 - val_dense_22_acc_3: 0.9693 - val_dense_22_acc_4: 1.0000 - val_dense_22_acc_5: 0.9898 - val_dense_22_acc_6: 0.9539 - val_dense_22_acc_7: 1.0000 - val_dense_22_acc_8: 0.9707 - val_dense_22_acc_9: 0.9514\n",
      "Epoch 31/100\n",
      "50000/50000 [==============================] - 62s 1ms/step - loss: 0.7526 - dense_22_loss: 0.1376 - dense_22_acc: 0.9942 - dense_22_acc_1: 0.9658 - dense_22_acc_2: 0.9834 - dense_22_acc_3: 0.9706 - dense_22_acc_4: 1.0000 - dense_22_acc_5: 0.9890 - dense_22_acc_6: 0.9584 - dense_22_acc_7: 1.0000 - dense_22_acc_8: 0.9736 - dense_22_acc_9: 0.9592 - val_loss: 0.7839 - val_dense_22_loss: 0.1487 - val_dense_22_acc: 0.9955 - val_dense_22_acc_1: 0.9648 - val_dense_22_acc_2: 0.9798 - val_dense_22_acc_3: 0.9711 - val_dense_22_acc_4: 1.0000 - val_dense_22_acc_5: 0.9897 - val_dense_22_acc_6: 0.9548 - val_dense_22_acc_7: 1.0000 - val_dense_22_acc_8: 0.9712 - val_dense_22_acc_9: 0.9530\n",
      "Epoch 32/100\n",
      "50000/50000 [==============================] - 61s 1ms/step - loss: 0.7365 - dense_22_loss: 0.1344 - dense_22_acc: 0.9942 - dense_22_acc_1: 0.9663 - dense_22_acc_2: 0.9843 - dense_22_acc_3: 0.9716 - dense_22_acc_4: 1.0000 - dense_22_acc_5: 0.9891 - dense_22_acc_6: 0.9584 - dense_22_acc_7: 1.0000 - dense_22_acc_8: 0.9743 - dense_22_acc_9: 0.9603 - val_loss: 0.7683 - val_dense_22_loss: 0.1450 - val_dense_22_acc: 0.9955 - val_dense_22_acc_1: 0.9648 - val_dense_22_acc_2: 0.9806 - val_dense_22_acc_3: 0.9711 - val_dense_22_acc_4: 1.0000 - val_dense_22_acc_5: 0.9901 - val_dense_22_acc_6: 0.9546 - val_dense_22_acc_7: 1.0000 - val_dense_22_acc_8: 0.9712 - val_dense_22_acc_9: 0.9538\n",
      "Epoch 33/100\n",
      "50000/50000 [==============================] - 61s 1ms/step - loss: 0.7220 - dense_22_loss: 0.1318 - dense_22_acc: 0.9943 - dense_22_acc_1: 0.9663 - dense_22_acc_2: 0.9850 - dense_22_acc_3: 0.9731 - dense_22_acc_4: 1.0000 - dense_22_acc_5: 0.9891 - dense_22_acc_6: 0.9592 - dense_22_acc_7: 1.0000 - dense_22_acc_8: 0.9748 - dense_22_acc_9: 0.9611 - val_loss: 0.7532 - val_dense_22_loss: 0.1425 - val_dense_22_acc: 0.9955 - val_dense_22_acc_1: 0.9647 - val_dense_22_acc_2: 0.9813 - val_dense_22_acc_3: 0.9726 - val_dense_22_acc_4: 1.0000 - val_dense_22_acc_5: 0.9898 - val_dense_22_acc_6: 0.9544 - val_dense_22_acc_7: 1.0000 - val_dense_22_acc_8: 0.9726 - val_dense_22_acc_9: 0.9544\n",
      "Epoch 34/100\n",
      "50000/50000 [==============================] - 61s 1ms/step - loss: 0.7081 - dense_22_loss: 0.1289 - dense_22_acc: 0.9943 - dense_22_acc_1: 0.9663 - dense_22_acc_2: 0.9854 - dense_22_acc_3: 0.9740 - dense_22_acc_4: 1.0000 - dense_22_acc_5: 0.9894 - dense_22_acc_6: 0.9595 - dense_22_acc_7: 1.0000 - dense_22_acc_8: 0.9753 - dense_22_acc_9: 0.9620 - val_loss: 0.7392 - val_dense_22_loss: 0.1400 - val_dense_22_acc: 0.9955 - val_dense_22_acc_1: 0.9649 - val_dense_22_acc_2: 0.9827 - val_dense_22_acc_3: 0.9750 - val_dense_22_acc_4: 1.0000 - val_dense_22_acc_5: 0.9902 - val_dense_22_acc_6: 0.9560 - val_dense_22_acc_7: 1.0000 - val_dense_22_acc_8: 0.9742 - val_dense_22_acc_9: 0.9555\n",
      "Epoch 35/100\n",
      "50000/50000 [==============================] - 61s 1ms/step - loss: 0.6942 - dense_22_loss: 0.1261 - dense_22_acc: 0.9943 - dense_22_acc_1: 0.9666 - dense_22_acc_2: 0.9863 - dense_22_acc_3: 0.9751 - dense_22_acc_4: 1.0000 - dense_22_acc_5: 0.9891 - dense_22_acc_6: 0.9600 - dense_22_acc_7: 1.0000 - dense_22_acc_8: 0.9760 - dense_22_acc_9: 0.9627 - val_loss: 0.7286 - val_dense_22_loss: 0.1389 - val_dense_22_acc: 0.9955 - val_dense_22_acc_1: 0.9651 - val_dense_22_acc_2: 0.9832 - val_dense_22_acc_3: 0.9749 - val_dense_22_acc_4: 1.0000 - val_dense_22_acc_5: 0.9901 - val_dense_22_acc_6: 0.9555 - val_dense_22_acc_7: 1.0000 - val_dense_22_acc_8: 0.9738 - val_dense_22_acc_9: 0.9560\n",
      "Epoch 36/100\n",
      "50000/50000 [==============================] - 61s 1ms/step - loss: 0.6819 - dense_22_loss: 0.1240 - dense_22_acc: 0.9944 - dense_22_acc_1: 0.9667 - dense_22_acc_2: 0.9870 - dense_22_acc_3: 0.9762 - dense_22_acc_4: 1.0000 - dense_22_acc_5: 0.9893 - dense_22_acc_6: 0.9601 - dense_22_acc_7: 1.0000 - dense_22_acc_8: 0.9768 - dense_22_acc_9: 0.9633 - val_loss: 0.7147 - val_dense_22_loss: 0.1356 - val_dense_22_acc: 0.9955 - val_dense_22_acc_1: 0.9652 - val_dense_22_acc_2: 0.9838 - val_dense_22_acc_3: 0.9759 - val_dense_22_acc_4: 1.0000 - val_dense_22_acc_5: 0.9905 - val_dense_22_acc_6: 0.9546 - val_dense_22_acc_7: 1.0000 - val_dense_22_acc_8: 0.9753 - val_dense_22_acc_9: 0.9582\n",
      "Epoch 37/100\n",
      "50000/50000 [==============================] - 61s 1ms/step - loss: 0.6701 - dense_22_loss: 0.1217 - dense_22_acc: 0.9944 - dense_22_acc_1: 0.9670 - dense_22_acc_2: 0.9875 - dense_22_acc_3: 0.9772 - dense_22_acc_4: 1.0000 - dense_22_acc_5: 0.9896 - dense_22_acc_6: 0.9602 - dense_22_acc_7: 1.0000 - dense_22_acc_8: 0.9772 - dense_22_acc_9: 0.9639 - val_loss: 0.7059 - val_dense_22_loss: 0.1337 - val_dense_22_acc: 0.9956 - val_dense_22_acc_1: 0.9654 - val_dense_22_acc_2: 0.9846 - val_dense_22_acc_3: 0.9772 - val_dense_22_acc_4: 1.0000 - val_dense_22_acc_5: 0.9902 - val_dense_22_acc_6: 0.9550 - val_dense_22_acc_7: 1.0000 - val_dense_22_acc_8: 0.9754 - val_dense_22_acc_9: 0.9585\n",
      "Epoch 38/100\n",
      "50000/50000 [==============================] - 60s 1ms/step - loss: 0.6588 - dense_22_loss: 0.1192 - dense_22_acc: 0.9943 - dense_22_acc_1: 0.9671 - dense_22_acc_2: 0.9880 - dense_22_acc_3: 0.9777 - dense_22_acc_4: 1.0000 - dense_22_acc_5: 0.9895 - dense_22_acc_6: 0.9606 - dense_22_acc_7: 1.0000 - dense_22_acc_8: 0.9779 - dense_22_acc_9: 0.9648 - val_loss: 0.6926 - val_dense_22_loss: 0.1322 - val_dense_22_acc: 0.9958 - val_dense_22_acc_1: 0.9656 - val_dense_22_acc_2: 0.9855 - val_dense_22_acc_3: 0.9780 - val_dense_22_acc_4: 1.0000 - val_dense_22_acc_5: 0.9907 - val_dense_22_acc_6: 0.9563 - val_dense_22_acc_7: 1.0000 - val_dense_22_acc_8: 0.9764 - val_dense_22_acc_9: 0.9586\n",
      "Epoch 39/100\n",
      "50000/50000 [==============================] - 61s 1ms/step - loss: 0.6479 - dense_22_loss: 0.1173 - dense_22_acc: 0.9944 - dense_22_acc_1: 0.9670 - dense_22_acc_2: 0.9883 - dense_22_acc_3: 0.9786 - dense_22_acc_4: 1.0000 - dense_22_acc_5: 0.9895 - dense_22_acc_6: 0.9614 - dense_22_acc_7: 1.0000 - dense_22_acc_8: 0.9781 - dense_22_acc_9: 0.9652 - val_loss: 0.6839 - val_dense_22_loss: 0.1285 - val_dense_22_acc: 0.9959 - val_dense_22_acc_1: 0.9657 - val_dense_22_acc_2: 0.9854 - val_dense_22_acc_3: 0.9790 - val_dense_22_acc_4: 1.0000 - val_dense_22_acc_5: 0.9911 - val_dense_22_acc_6: 0.9562 - val_dense_22_acc_7: 1.0000 - val_dense_22_acc_8: 0.9743 - val_dense_22_acc_9: 0.9601\n",
      "Epoch 40/100\n",
      "50000/50000 [==============================] - 61s 1ms/step - loss: 0.6379 - dense_22_loss: 0.1155 - dense_22_acc: 0.9944 - dense_22_acc_1: 0.9672 - dense_22_acc_2: 0.9889 - dense_22_acc_3: 0.9797 - dense_22_acc_4: 1.0000 - dense_22_acc_5: 0.9901 - dense_22_acc_6: 0.9613 - dense_22_acc_7: 1.0000 - dense_22_acc_8: 0.9786 - dense_22_acc_9: 0.9658 - val_loss: 0.6715 - val_dense_22_loss: 0.1272 - val_dense_22_acc: 0.9959 - val_dense_22_acc_1: 0.9656 - val_dense_22_acc_2: 0.9864 - val_dense_22_acc_3: 0.9798 - val_dense_22_acc_4: 1.0000 - val_dense_22_acc_5: 0.9908 - val_dense_22_acc_6: 0.9567 - val_dense_22_acc_7: 1.0000 - val_dense_22_acc_8: 0.9770 - val_dense_22_acc_9: 0.9600\n",
      "Epoch 41/100\n",
      "50000/50000 [==============================] - 62s 1ms/step - loss: 0.6282 - dense_22_loss: 0.1135 - dense_22_acc: 0.9944 - dense_22_acc_1: 0.9673 - dense_22_acc_2: 0.9891 - dense_22_acc_3: 0.9802 - dense_22_acc_4: 1.0000 - dense_22_acc_5: 0.9897 - dense_22_acc_6: 0.9612 - dense_22_acc_7: 1.0000 - dense_22_acc_8: 0.9790 - dense_22_acc_9: 0.9664 - val_loss: 0.6623 - val_dense_22_loss: 0.1256 - val_dense_22_acc: 0.9959 - val_dense_22_acc_1: 0.9662 - val_dense_22_acc_2: 0.9865 - val_dense_22_acc_3: 0.9805 - val_dense_22_acc_4: 1.0000 - val_dense_22_acc_5: 0.9907 - val_dense_22_acc_6: 0.9569 - val_dense_22_acc_7: 1.0000 - val_dense_22_acc_8: 0.9771 - val_dense_22_acc_9: 0.9611\n",
      "Epoch 42/100\n",
      "50000/50000 [==============================] - 62s 1ms/step - loss: 0.6192 - dense_22_loss: 0.1119 - dense_22_acc: 0.9944 - dense_22_acc_1: 0.9673 - dense_22_acc_2: 0.9897 - dense_22_acc_3: 0.9814 - dense_22_acc_4: 1.0000 - dense_22_acc_5: 0.9898 - dense_22_acc_6: 0.9623 - dense_22_acc_7: 1.0000 - dense_22_acc_8: 0.9796 - dense_22_acc_9: 0.9665 - val_loss: 0.6546 - val_dense_22_loss: 0.1241 - val_dense_22_acc: 0.9959 - val_dense_22_acc_1: 0.9662 - val_dense_22_acc_2: 0.9878 - val_dense_22_acc_3: 0.9801 - val_dense_22_acc_4: 1.0000 - val_dense_22_acc_5: 0.9907 - val_dense_22_acc_6: 0.9572 - val_dense_22_acc_7: 1.0000 - val_dense_22_acc_8: 0.9781 - val_dense_22_acc_9: 0.9607\n",
      "Epoch 43/100\n",
      "50000/50000 [==============================] - 62s 1ms/step - loss: 0.6103 - dense_22_loss: 0.1099 - dense_22_acc: 0.9944 - dense_22_acc_1: 0.9675 - dense_22_acc_2: 0.9899 - dense_22_acc_3: 0.9817 - dense_22_acc_4: 1.0000 - dense_22_acc_5: 0.9898 - dense_22_acc_6: 0.9623 - dense_22_acc_7: 1.0000 - dense_22_acc_8: 0.9797 - dense_22_acc_9: 0.9677 - val_loss: 0.6443 - val_dense_22_loss: 0.1222 - val_dense_22_acc: 0.9957 - val_dense_22_acc_1: 0.9665 - val_dense_22_acc_2: 0.9878 - val_dense_22_acc_3: 0.9813 - val_dense_22_acc_4: 1.0000 - val_dense_22_acc_5: 0.9909 - val_dense_22_acc_6: 0.9575 - val_dense_22_acc_7: 1.0000 - val_dense_22_acc_8: 0.9788 - val_dense_22_acc_9: 0.9620\n",
      "Epoch 44/100\n",
      "50000/50000 [==============================] - 63s 1ms/step - loss: 0.6019 - dense_22_loss: 0.1085 - dense_22_acc: 0.9944 - dense_22_acc_1: 0.9675 - dense_22_acc_2: 0.9901 - dense_22_acc_3: 0.9821 - dense_22_acc_4: 1.0000 - dense_22_acc_5: 0.9898 - dense_22_acc_6: 0.9625 - dense_22_acc_7: 1.0000 - dense_22_acc_8: 0.9804 - dense_22_acc_9: 0.9679 - val_loss: 0.6360 - val_dense_22_loss: 0.1207 - val_dense_22_acc: 0.9960 - val_dense_22_acc_1: 0.9666 - val_dense_22_acc_2: 0.9888 - val_dense_22_acc_3: 0.9828 - val_dense_22_acc_4: 1.0000 - val_dense_22_acc_5: 0.9914 - val_dense_22_acc_6: 0.9572 - val_dense_22_acc_7: 1.0000 - val_dense_22_acc_8: 0.9786 - val_dense_22_acc_9: 0.9619\n",
      "Epoch 45/100\n",
      "50000/50000 [==============================] - 63s 1ms/step - loss: 0.5937 - dense_22_loss: 0.1070 - dense_22_acc: 0.9944 - dense_22_acc_1: 0.9677 - dense_22_acc_2: 0.9903 - dense_22_acc_3: 0.9829 - dense_22_acc_4: 1.0000 - dense_22_acc_5: 0.9898 - dense_22_acc_6: 0.9628 - dense_22_acc_7: 1.0000 - dense_22_acc_8: 0.9810 - dense_22_acc_9: 0.9683 - val_loss: 0.6283 - val_dense_22_loss: 0.1189 - val_dense_22_acc: 0.9960 - val_dense_22_acc_1: 0.9667 - val_dense_22_acc_2: 0.9886 - val_dense_22_acc_3: 0.9829 - val_dense_22_acc_4: 1.0000 - val_dense_22_acc_5: 0.9911 - val_dense_22_acc_6: 0.9569 - val_dense_22_acc_7: 1.0000 - val_dense_22_acc_8: 0.9789 - val_dense_22_acc_9: 0.9625\n",
      "Epoch 46/100\n",
      "50000/50000 [==============================] - 62s 1ms/step - loss: 0.5862 - dense_22_loss: 0.1054 - dense_22_acc: 0.9944 - dense_22_acc_1: 0.9677 - dense_22_acc_2: 0.9909 - dense_22_acc_3: 0.9838 - dense_22_acc_4: 1.0000 - dense_22_acc_5: 0.9900 - dense_22_acc_6: 0.9630 - dense_22_acc_7: 1.0000 - dense_22_acc_8: 0.9811 - dense_22_acc_9: 0.9686 - val_loss: 0.6204 - val_dense_22_loss: 0.1173 - val_dense_22_acc: 0.9959 - val_dense_22_acc_1: 0.9664 - val_dense_22_acc_2: 0.9891 - val_dense_22_acc_3: 0.9833 - val_dense_22_acc_4: 1.0000 - val_dense_22_acc_5: 0.9912 - val_dense_22_acc_6: 0.9586 - val_dense_22_acc_7: 1.0000 - val_dense_22_acc_8: 0.9795 - val_dense_22_acc_9: 0.9631\n",
      "Epoch 47/100\n",
      "50000/50000 [==============================] - 61s 1ms/step - loss: 0.5792 - dense_22_loss: 0.1041 - dense_22_acc: 0.9945 - dense_22_acc_1: 0.9679 - dense_22_acc_2: 0.9911 - dense_22_acc_3: 0.9839 - dense_22_acc_4: 1.0000 - dense_22_acc_5: 0.9899 - dense_22_acc_6: 0.9635 - dense_22_acc_7: 1.0000 - dense_22_acc_8: 0.9814 - dense_22_acc_9: 0.9687 - val_loss: 0.6163 - val_dense_22_loss: 0.1171 - val_dense_22_acc: 0.9959 - val_dense_22_acc_1: 0.9666 - val_dense_22_acc_2: 0.9890 - val_dense_22_acc_3: 0.9835 - val_dense_22_acc_4: 1.0000 - val_dense_22_acc_5: 0.9912 - val_dense_22_acc_6: 0.9586 - val_dense_22_acc_7: 1.0000 - val_dense_22_acc_8: 0.9777 - val_dense_22_acc_9: 0.9634\n",
      "Epoch 48/100\n",
      "50000/50000 [==============================] - 61s 1ms/step - loss: 0.5717 - dense_22_loss: 0.1027 - dense_22_acc: 0.9944 - dense_22_acc_1: 0.9680 - dense_22_acc_2: 0.9912 - dense_22_acc_3: 0.9845 - dense_22_acc_4: 1.0000 - dense_22_acc_5: 0.9901 - dense_22_acc_6: 0.9638 - dense_22_acc_7: 1.0000 - dense_22_acc_8: 0.9817 - dense_22_acc_9: 0.9689 - val_loss: 0.6057 - val_dense_22_loss: 0.1156 - val_dense_22_acc: 0.9960 - val_dense_22_acc_1: 0.9669 - val_dense_22_acc_2: 0.9905 - val_dense_22_acc_3: 0.9836 - val_dense_22_acc_4: 1.0000 - val_dense_22_acc_5: 0.9914 - val_dense_22_acc_6: 0.9577 - val_dense_22_acc_7: 1.0000 - val_dense_22_acc_8: 0.9801 - val_dense_22_acc_9: 0.9635\n",
      "Epoch 49/100\n",
      "50000/50000 [==============================] - 61s 1ms/step - loss: 0.5649 - dense_22_loss: 0.1012 - dense_22_acc: 0.9945 - dense_22_acc_1: 0.9680 - dense_22_acc_2: 0.9914 - dense_22_acc_3: 0.9851 - dense_22_acc_4: 1.0000 - dense_22_acc_5: 0.9901 - dense_22_acc_6: 0.9642 - dense_22_acc_7: 1.0000 - dense_22_acc_8: 0.9820 - dense_22_acc_9: 0.9700 - val_loss: 0.5997 - val_dense_22_loss: 0.1143 - val_dense_22_acc: 0.9960 - val_dense_22_acc_1: 0.9673 - val_dense_22_acc_2: 0.9905 - val_dense_22_acc_3: 0.9843 - val_dense_22_acc_4: 1.0000 - val_dense_22_acc_5: 0.9915 - val_dense_22_acc_6: 0.9595 - val_dense_22_acc_7: 1.0000 - val_dense_22_acc_8: 0.9795 - val_dense_22_acc_9: 0.9640\n",
      "Epoch 50/100\n",
      "50000/50000 [==============================] - 62s 1ms/step - loss: 0.5586 - dense_22_loss: 0.1005 - dense_22_acc: 0.9945 - dense_22_acc_1: 0.9681 - dense_22_acc_2: 0.9920 - dense_22_acc_3: 0.9853 - dense_22_acc_4: 1.0000 - dense_22_acc_5: 0.9903 - dense_22_acc_6: 0.9640 - dense_22_acc_7: 1.0000 - dense_22_acc_8: 0.9824 - dense_22_acc_9: 0.9695 - val_loss: 0.5927 - val_dense_22_loss: 0.1134 - val_dense_22_acc: 0.9960 - val_dense_22_acc_1: 0.9668 - val_dense_22_acc_2: 0.9914 - val_dense_22_acc_3: 0.9847 - val_dense_22_acc_4: 1.0000 - val_dense_22_acc_5: 0.9917 - val_dense_22_acc_6: 0.9584 - val_dense_22_acc_7: 1.0000 - val_dense_22_acc_8: 0.9806 - val_dense_22_acc_9: 0.9644\n",
      "Epoch 51/100\n",
      "50000/50000 [==============================] - 61s 1ms/step - loss: 0.5525 - dense_22_loss: 0.0993 - dense_22_acc: 0.9945 - dense_22_acc_1: 0.9681 - dense_22_acc_2: 0.9918 - dense_22_acc_3: 0.9857 - dense_22_acc_4: 1.0000 - dense_22_acc_5: 0.9903 - dense_22_acc_6: 0.9643 - dense_22_acc_7: 1.0000 - dense_22_acc_8: 0.9827 - dense_22_acc_9: 0.9701 - val_loss: 0.5866 - val_dense_22_loss: 0.1119 - val_dense_22_acc: 0.9960 - val_dense_22_acc_1: 0.9676 - val_dense_22_acc_2: 0.9908 - val_dense_22_acc_3: 0.9857 - val_dense_22_acc_4: 1.0000 - val_dense_22_acc_5: 0.9918 - val_dense_22_acc_6: 0.9595 - val_dense_22_acc_7: 1.0000 - val_dense_22_acc_8: 0.9807 - val_dense_22_acc_9: 0.9648\n",
      "Epoch 52/100\n",
      "50000/50000 [==============================] - 61s 1ms/step - loss: 0.5461 - dense_22_loss: 0.0979 - dense_22_acc: 0.9945 - dense_22_acc_1: 0.9681 - dense_22_acc_2: 0.9923 - dense_22_acc_3: 0.9859 - dense_22_acc_4: 1.0000 - dense_22_acc_5: 0.9903 - dense_22_acc_6: 0.9651 - dense_22_acc_7: 1.0000 - dense_22_acc_8: 0.9828 - dense_22_acc_9: 0.9704 - val_loss: 0.5813 - val_dense_22_loss: 0.1114 - val_dense_22_acc: 0.9960 - val_dense_22_acc_1: 0.9673 - val_dense_22_acc_2: 0.9915 - val_dense_22_acc_3: 0.9861 - val_dense_22_acc_4: 1.0000 - val_dense_22_acc_5: 0.9916 - val_dense_22_acc_6: 0.9594 - val_dense_22_acc_7: 1.0000 - val_dense_22_acc_8: 0.9807 - val_dense_22_acc_9: 0.9646\n",
      "Epoch 53/100\n",
      "50000/50000 [==============================] - 61s 1ms/step - loss: 0.5402 - dense_22_loss: 0.0968 - dense_22_acc: 0.9945 - dense_22_acc_1: 0.9683 - dense_22_acc_2: 0.9924 - dense_22_acc_3: 0.9864 - dense_22_acc_4: 1.0000 - dense_22_acc_5: 0.9904 - dense_22_acc_6: 0.9648 - dense_22_acc_7: 1.0000 - dense_22_acc_8: 0.9830 - dense_22_acc_9: 0.9709 - val_loss: 0.5762 - val_dense_22_loss: 0.1103 - val_dense_22_acc: 0.9960 - val_dense_22_acc_1: 0.9676 - val_dense_22_acc_2: 0.9914 - val_dense_22_acc_3: 0.9861 - val_dense_22_acc_4: 1.0000 - val_dense_22_acc_5: 0.9916 - val_dense_22_acc_6: 0.9592 - val_dense_22_acc_7: 1.0000 - val_dense_22_acc_8: 0.9804 - val_dense_22_acc_9: 0.9643\n",
      "Epoch 54/100\n",
      "50000/50000 [==============================] - 61s 1ms/step - loss: 0.5344 - dense_22_loss: 0.0957 - dense_22_acc: 0.9945 - dense_22_acc_1: 0.9681 - dense_22_acc_2: 0.9926 - dense_22_acc_3: 0.9867 - dense_22_acc_4: 1.0000 - dense_22_acc_5: 0.9905 - dense_22_acc_6: 0.9654 - dense_22_acc_7: 1.0000 - dense_22_acc_8: 0.9833 - dense_22_acc_9: 0.9712 - val_loss: 0.5685 - val_dense_22_loss: 0.1090 - val_dense_22_acc: 0.9961 - val_dense_22_acc_1: 0.9672 - val_dense_22_acc_2: 0.9915 - val_dense_22_acc_3: 0.9867 - val_dense_22_acc_4: 1.0000 - val_dense_22_acc_5: 0.9918 - val_dense_22_acc_6: 0.9601 - val_dense_22_acc_7: 1.0000 - val_dense_22_acc_8: 0.9813 - val_dense_22_acc_9: 0.9656\n",
      "Epoch 55/100\n",
      "50000/50000 [==============================] - 61s 1ms/step - loss: 0.5295 - dense_22_loss: 0.0949 - dense_22_acc: 0.9946 - dense_22_acc_1: 0.9684 - dense_22_acc_2: 0.9928 - dense_22_acc_3: 0.9868 - dense_22_acc_4: 1.0000 - dense_22_acc_5: 0.9906 - dense_22_acc_6: 0.9659 - dense_22_acc_7: 1.0000 - dense_22_acc_8: 0.9835 - dense_22_acc_9: 0.9715 - val_loss: 0.5661 - val_dense_22_loss: 0.1079 - val_dense_22_acc: 0.9961 - val_dense_22_acc_1: 0.9678 - val_dense_22_acc_2: 0.9924 - val_dense_22_acc_3: 0.9857 - val_dense_22_acc_4: 1.0000 - val_dense_22_acc_5: 0.9916 - val_dense_22_acc_6: 0.9591 - val_dense_22_acc_7: 1.0000 - val_dense_22_acc_8: 0.9803 - val_dense_22_acc_9: 0.9651\n",
      "Epoch 56/100\n",
      "50000/50000 [==============================] - 61s 1ms/step - loss: 0.5241 - dense_22_loss: 0.0937 - dense_22_acc: 0.9946 - dense_22_acc_1: 0.9683 - dense_22_acc_2: 0.9930 - dense_22_acc_3: 0.9874 - dense_22_acc_4: 1.0000 - dense_22_acc_5: 0.9906 - dense_22_acc_6: 0.9657 - dense_22_acc_7: 1.0000 - dense_22_acc_8: 0.9836 - dense_22_acc_9: 0.9715 - val_loss: 0.5588 - val_dense_22_loss: 0.1069 - val_dense_22_acc: 0.9961 - val_dense_22_acc_1: 0.9675 - val_dense_22_acc_2: 0.9923 - val_dense_22_acc_3: 0.9869 - val_dense_22_acc_4: 1.0000 - val_dense_22_acc_5: 0.9919 - val_dense_22_acc_6: 0.9605 - val_dense_22_acc_7: 1.0000 - val_dense_22_acc_8: 0.9821 - val_dense_22_acc_9: 0.9649\n",
      "Epoch 57/100\n",
      "50000/50000 [==============================] - 61s 1ms/step - loss: 0.5190 - dense_22_loss: 0.0930 - dense_22_acc: 0.9946 - dense_22_acc_1: 0.9682 - dense_22_acc_2: 0.9932 - dense_22_acc_3: 0.9874 - dense_22_acc_4: 1.0000 - dense_22_acc_5: 0.9908 - dense_22_acc_6: 0.9666 - dense_22_acc_7: 1.0000 - dense_22_acc_8: 0.9842 - dense_22_acc_9: 0.9715 - val_loss: 0.5554 - val_dense_22_loss: 0.1062 - val_dense_22_acc: 0.9961 - val_dense_22_acc_1: 0.9681 - val_dense_22_acc_2: 0.9921 - val_dense_22_acc_3: 0.9870 - val_dense_22_acc_4: 1.0000 - val_dense_22_acc_5: 0.9921 - val_dense_22_acc_6: 0.9615 - val_dense_22_acc_7: 1.0000 - val_dense_22_acc_8: 0.9812 - val_dense_22_acc_9: 0.9661\n",
      "Epoch 58/100\n",
      "50000/50000 [==============================] - 61s 1ms/step - loss: 0.5140 - dense_22_loss: 0.0918 - dense_22_acc: 0.9946 - dense_22_acc_1: 0.9683 - dense_22_acc_2: 0.9934 - dense_22_acc_3: 0.9876 - dense_22_acc_4: 1.0000 - dense_22_acc_5: 0.9907 - dense_22_acc_6: 0.9670 - dense_22_acc_7: 1.0000 - dense_22_acc_8: 0.9843 - dense_22_acc_9: 0.9718 - val_loss: 0.5496 - val_dense_22_loss: 0.1046 - val_dense_22_acc: 0.9961 - val_dense_22_acc_1: 0.9680 - val_dense_22_acc_2: 0.9928 - val_dense_22_acc_3: 0.9873 - val_dense_22_acc_4: 1.0000 - val_dense_22_acc_5: 0.9915 - val_dense_22_acc_6: 0.9598 - val_dense_22_acc_7: 1.0000 - val_dense_22_acc_8: 0.9829 - val_dense_22_acc_9: 0.9668\n",
      "Epoch 59/100\n",
      "50000/50000 [==============================] - 61s 1ms/step - loss: 0.5096 - dense_22_loss: 0.0910 - dense_22_acc: 0.9945 - dense_22_acc_1: 0.9683 - dense_22_acc_2: 0.9936 - dense_22_acc_3: 0.9878 - dense_22_acc_4: 1.0000 - dense_22_acc_5: 0.9905 - dense_22_acc_6: 0.9666 - dense_22_acc_7: 1.0000 - dense_22_acc_8: 0.9846 - dense_22_acc_9: 0.9718 - val_loss: 0.5433 - val_dense_22_loss: 0.1039 - val_dense_22_acc: 0.9962 - val_dense_22_acc_1: 0.9678 - val_dense_22_acc_2: 0.9927 - val_dense_22_acc_3: 0.9876 - val_dense_22_acc_4: 1.0000 - val_dense_22_acc_5: 0.9923 - val_dense_22_acc_6: 0.9609 - val_dense_22_acc_7: 1.0000 - val_dense_22_acc_8: 0.9826 - val_dense_22_acc_9: 0.9664\n",
      "Epoch 60/100\n",
      "50000/50000 [==============================] - 61s 1ms/step - loss: 0.5048 - dense_22_loss: 0.0901 - dense_22_acc: 0.9946 - dense_22_acc_1: 0.9684 - dense_22_acc_2: 0.9936 - dense_22_acc_3: 0.9881 - dense_22_acc_4: 1.0000 - dense_22_acc_5: 0.9905 - dense_22_acc_6: 0.9671 - dense_22_acc_7: 1.0000 - dense_22_acc_8: 0.9846 - dense_22_acc_9: 0.9723 - val_loss: 0.5399 - val_dense_22_loss: 0.1031 - val_dense_22_acc: 0.9962 - val_dense_22_acc_1: 0.9681 - val_dense_22_acc_2: 0.9931 - val_dense_22_acc_3: 0.9878 - val_dense_22_acc_4: 1.0000 - val_dense_22_acc_5: 0.9923 - val_dense_22_acc_6: 0.9618 - val_dense_22_acc_7: 1.0000 - val_dense_22_acc_8: 0.9824 - val_dense_22_acc_9: 0.9667\n",
      "Epoch 61/100\n",
      "50000/50000 [==============================] - 61s 1ms/step - loss: 0.5004 - dense_22_loss: 0.0893 - dense_22_acc: 0.9946 - dense_22_acc_1: 0.9684 - dense_22_acc_2: 0.9938 - dense_22_acc_3: 0.9883 - dense_22_acc_4: 1.0000 - dense_22_acc_5: 0.9907 - dense_22_acc_6: 0.9675 - dense_22_acc_7: 1.0000 - dense_22_acc_8: 0.9848 - dense_22_acc_9: 0.9725 - val_loss: 0.5347 - val_dense_22_loss: 0.1022 - val_dense_22_acc: 0.9962 - val_dense_22_acc_1: 0.9677 - val_dense_22_acc_2: 0.9927 - val_dense_22_acc_3: 0.9880 - val_dense_22_acc_4: 1.0000 - val_dense_22_acc_5: 0.9921 - val_dense_22_acc_6: 0.9613 - val_dense_22_acc_7: 1.0000 - val_dense_22_acc_8: 0.9832 - val_dense_22_acc_9: 0.9674\n",
      "Epoch 62/100\n",
      "50000/50000 [==============================] - 61s 1ms/step - loss: 0.4961 - dense_22_loss: 0.0887 - dense_22_acc: 0.9946 - dense_22_acc_1: 0.9685 - dense_22_acc_2: 0.9941 - dense_22_acc_3: 0.9887 - dense_22_acc_4: 1.0000 - dense_22_acc_5: 0.9908 - dense_22_acc_6: 0.9676 - dense_22_acc_7: 1.0000 - dense_22_acc_8: 0.9849 - dense_22_acc_9: 0.9726 - val_loss: 0.5309 - val_dense_22_loss: 0.1020 - val_dense_22_acc: 0.9961 - val_dense_22_acc_1: 0.9679 - val_dense_22_acc_2: 0.9929 - val_dense_22_acc_3: 0.9882 - val_dense_22_acc_4: 1.0000 - val_dense_22_acc_5: 0.9923 - val_dense_22_acc_6: 0.9627 - val_dense_22_acc_7: 1.0000 - val_dense_22_acc_8: 0.9829 - val_dense_22_acc_9: 0.9661\n",
      "Epoch 63/100\n",
      "50000/50000 [==============================] - 61s 1ms/step - loss: 0.4918 - dense_22_loss: 0.0877 - dense_22_acc: 0.9946 - dense_22_acc_1: 0.9684 - dense_22_acc_2: 0.9943 - dense_22_acc_3: 0.9889 - dense_22_acc_4: 1.0000 - dense_22_acc_5: 0.9908 - dense_22_acc_6: 0.9676 - dense_22_acc_7: 1.0000 - dense_22_acc_8: 0.9850 - dense_22_acc_9: 0.9731 - val_loss: 0.5269 - val_dense_22_loss: 0.1012 - val_dense_22_acc: 0.9962 - val_dense_22_acc_1: 0.9678 - val_dense_22_acc_2: 0.9928 - val_dense_22_acc_3: 0.9883 - val_dense_22_acc_4: 1.0000 - val_dense_22_acc_5: 0.9922 - val_dense_22_acc_6: 0.9619 - val_dense_22_acc_7: 1.0000 - val_dense_22_acc_8: 0.9835 - val_dense_22_acc_9: 0.9671\n",
      "Epoch 64/100\n",
      "50000/50000 [==============================] - 60s 1ms/step - loss: 0.4880 - dense_22_loss: 0.0870 - dense_22_acc: 0.9946 - dense_22_acc_1: 0.9686 - dense_22_acc_2: 0.9943 - dense_22_acc_3: 0.9889 - dense_22_acc_4: 1.0000 - dense_22_acc_5: 0.9909 - dense_22_acc_6: 0.9680 - dense_22_acc_7: 1.0000 - dense_22_acc_8: 0.9850 - dense_22_acc_9: 0.9731 - val_loss: 0.5231 - val_dense_22_loss: 0.1004 - val_dense_22_acc: 0.9961 - val_dense_22_acc_1: 0.9681 - val_dense_22_acc_2: 0.9936 - val_dense_22_acc_3: 0.9888 - val_dense_22_acc_4: 1.0000 - val_dense_22_acc_5: 0.9919 - val_dense_22_acc_6: 0.9614 - val_dense_22_acc_7: 1.0000 - val_dense_22_acc_8: 0.9838 - val_dense_22_acc_9: 0.9671\n",
      "Epoch 65/100\n",
      "50000/50000 [==============================] - 60s 1ms/step - loss: 0.4840 - dense_22_loss: 0.0863 - dense_22_acc: 0.9947 - dense_22_acc_1: 0.9686 - dense_22_acc_2: 0.9944 - dense_22_acc_3: 0.9891 - dense_22_acc_4: 1.0000 - dense_22_acc_5: 0.9909 - dense_22_acc_6: 0.9683 - dense_22_acc_7: 1.0000 - dense_22_acc_8: 0.9856 - dense_22_acc_9: 0.9730 - val_loss: 0.5179 - val_dense_22_loss: 0.0994 - val_dense_22_acc: 0.9962 - val_dense_22_acc_1: 0.9682 - val_dense_22_acc_2: 0.9936 - val_dense_22_acc_3: 0.9892 - val_dense_22_acc_4: 1.0000 - val_dense_22_acc_5: 0.9924 - val_dense_22_acc_6: 0.9623 - val_dense_22_acc_7: 1.0000 - val_dense_22_acc_8: 0.9836 - val_dense_22_acc_9: 0.9668\n",
      "Epoch 66/100\n",
      "50000/50000 [==============================] - 61s 1ms/step - loss: 0.4801 - dense_22_loss: 0.0855 - dense_22_acc: 0.9947 - dense_22_acc_1: 0.9686 - dense_22_acc_2: 0.9945 - dense_22_acc_3: 0.9895 - dense_22_acc_4: 1.0000 - dense_22_acc_5: 0.9909 - dense_22_acc_6: 0.9682 - dense_22_acc_7: 1.0000 - dense_22_acc_8: 0.9858 - dense_22_acc_9: 0.9738 - val_loss: 0.5155 - val_dense_22_loss: 0.0990 - val_dense_22_acc: 0.9962 - val_dense_22_acc_1: 0.9683 - val_dense_22_acc_2: 0.9937 - val_dense_22_acc_3: 0.9890 - val_dense_22_acc_4: 1.0000 - val_dense_22_acc_5: 0.9919 - val_dense_22_acc_6: 0.9619 - val_dense_22_acc_7: 1.0000 - val_dense_22_acc_8: 0.9838 - val_dense_22_acc_9: 0.9672\n",
      "Epoch 67/100\n",
      "50000/50000 [==============================] - 60s 1ms/step - loss: 0.4761 - dense_22_loss: 0.0847 - dense_22_acc: 0.9947 - dense_22_acc_1: 0.9686 - dense_22_acc_2: 0.9948 - dense_22_acc_3: 0.9895 - dense_22_acc_4: 1.0000 - dense_22_acc_5: 0.9910 - dense_22_acc_6: 0.9687 - dense_22_acc_7: 1.0000 - dense_22_acc_8: 0.9862 - dense_22_acc_9: 0.9736 - val_loss: 0.5106 - val_dense_22_loss: 0.0980 - val_dense_22_acc: 0.9962 - val_dense_22_acc_1: 0.9683 - val_dense_22_acc_2: 0.9938 - val_dense_22_acc_3: 0.9897 - val_dense_22_acc_4: 1.0000 - val_dense_22_acc_5: 0.9923 - val_dense_22_acc_6: 0.9629 - val_dense_22_acc_7: 1.0000 - val_dense_22_acc_8: 0.9845 - val_dense_22_acc_9: 0.9669\n",
      "Epoch 68/100\n",
      "50000/50000 [==============================] - 60s 1ms/step - loss: 0.4725 - dense_22_loss: 0.0840 - dense_22_acc: 0.9947 - dense_22_acc_1: 0.9687 - dense_22_acc_2: 0.9948 - dense_22_acc_3: 0.9898 - dense_22_acc_4: 1.0000 - dense_22_acc_5: 0.9911 - dense_22_acc_6: 0.9683 - dense_22_acc_7: 1.0000 - dense_22_acc_8: 0.9861 - dense_22_acc_9: 0.9745 - val_loss: 0.5073 - val_dense_22_loss: 0.0974 - val_dense_22_acc: 0.9962 - val_dense_22_acc_1: 0.9685 - val_dense_22_acc_2: 0.9939 - val_dense_22_acc_3: 0.9897 - val_dense_22_acc_4: 1.0000 - val_dense_22_acc_5: 0.9924 - val_dense_22_acc_6: 0.9635 - val_dense_22_acc_7: 1.0000 - val_dense_22_acc_8: 0.9836 - val_dense_22_acc_9: 0.9676\n",
      "Epoch 69/100\n",
      "50000/50000 [==============================] - 60s 1ms/step - loss: 0.4693 - dense_22_loss: 0.0834 - dense_22_acc: 0.9947 - dense_22_acc_1: 0.9687 - dense_22_acc_2: 0.9950 - dense_22_acc_3: 0.9902 - dense_22_acc_4: 1.0000 - dense_22_acc_5: 0.9910 - dense_22_acc_6: 0.9690 - dense_22_acc_7: 1.0000 - dense_22_acc_8: 0.9862 - dense_22_acc_9: 0.9741 - val_loss: 0.5042 - val_dense_22_loss: 0.0968 - val_dense_22_acc: 0.9962 - val_dense_22_acc_1: 0.9685 - val_dense_22_acc_2: 0.9938 - val_dense_22_acc_3: 0.9902 - val_dense_22_acc_4: 1.0000 - val_dense_22_acc_5: 0.9922 - val_dense_22_acc_6: 0.9631 - val_dense_22_acc_7: 1.0000 - val_dense_22_acc_8: 0.9846 - val_dense_22_acc_9: 0.9672\n",
      "Epoch 70/100\n",
      "50000/50000 [==============================] - 60s 1ms/step - loss: 0.4659 - dense_22_loss: 0.0829 - dense_22_acc: 0.9947 - dense_22_acc_1: 0.9685 - dense_22_acc_2: 0.9950 - dense_22_acc_3: 0.9902 - dense_22_acc_4: 1.0000 - dense_22_acc_5: 0.9912 - dense_22_acc_6: 0.9690 - dense_22_acc_7: 1.0000 - dense_22_acc_8: 0.9863 - dense_22_acc_9: 0.9747 - val_loss: 0.5013 - val_dense_22_loss: 0.0960 - val_dense_22_acc: 0.9962 - val_dense_22_acc_1: 0.9687 - val_dense_22_acc_2: 0.9941 - val_dense_22_acc_3: 0.9897 - val_dense_22_acc_4: 1.0000 - val_dense_22_acc_5: 0.9923 - val_dense_22_acc_6: 0.9622 - val_dense_22_acc_7: 1.0000 - val_dense_22_acc_8: 0.9847 - val_dense_22_acc_9: 0.9684\n",
      "Epoch 71/100\n",
      "50000/50000 [==============================] - 61s 1ms/step - loss: 0.4627 - dense_22_loss: 0.0822 - dense_22_acc: 0.9946 - dense_22_acc_1: 0.9685 - dense_22_acc_2: 0.9949 - dense_22_acc_3: 0.9904 - dense_22_acc_4: 1.0000 - dense_22_acc_5: 0.9914 - dense_22_acc_6: 0.9691 - dense_22_acc_7: 1.0000 - dense_22_acc_8: 0.9864 - dense_22_acc_9: 0.9746 - val_loss: 0.4973 - val_dense_22_loss: 0.0958 - val_dense_22_acc: 0.9962 - val_dense_22_acc_1: 0.9682 - val_dense_22_acc_2: 0.9941 - val_dense_22_acc_3: 0.9900 - val_dense_22_acc_4: 1.0000 - val_dense_22_acc_5: 0.9924 - val_dense_22_acc_6: 0.9634 - val_dense_22_acc_7: 1.0000 - val_dense_22_acc_8: 0.9850 - val_dense_22_acc_9: 0.9675\n",
      "Epoch 72/100\n",
      "50000/50000 [==============================] - 60s 1ms/step - loss: 0.4592 - dense_22_loss: 0.0816 - dense_22_acc: 0.9946 - dense_22_acc_1: 0.9686 - dense_22_acc_2: 0.9951 - dense_22_acc_3: 0.9904 - dense_22_acc_4: 1.0000 - dense_22_acc_5: 0.9915 - dense_22_acc_6: 0.9693 - dense_22_acc_7: 1.0000 - dense_22_acc_8: 0.9864 - dense_22_acc_9: 0.9746 - val_loss: 0.4943 - val_dense_22_loss: 0.0947 - val_dense_22_acc: 0.9962 - val_dense_22_acc_1: 0.9684 - val_dense_22_acc_2: 0.9943 - val_dense_22_acc_3: 0.9905 - val_dense_22_acc_4: 1.0000 - val_dense_22_acc_5: 0.9926 - val_dense_22_acc_6: 0.9645 - val_dense_22_acc_7: 1.0000 - val_dense_22_acc_8: 0.9849 - val_dense_22_acc_9: 0.9687\n",
      "Epoch 73/100\n",
      "50000/50000 [==============================] - 60s 1ms/step - loss: 0.4562 - dense_22_loss: 0.0810 - dense_22_acc: 0.9947 - dense_22_acc_1: 0.9686 - dense_22_acc_2: 0.9953 - dense_22_acc_3: 0.9905 - dense_22_acc_4: 1.0000 - dense_22_acc_5: 0.9911 - dense_22_acc_6: 0.9695 - dense_22_acc_7: 1.0000 - dense_22_acc_8: 0.9867 - dense_22_acc_9: 0.9751 - val_loss: 0.4908 - val_dense_22_loss: 0.0946 - val_dense_22_acc: 0.9962 - val_dense_22_acc_1: 0.9685 - val_dense_22_acc_2: 0.9944 - val_dense_22_acc_3: 0.9904 - val_dense_22_acc_4: 1.0000 - val_dense_22_acc_5: 0.9925 - val_dense_22_acc_6: 0.9637 - val_dense_22_acc_7: 1.0000 - val_dense_22_acc_8: 0.9844 - val_dense_22_acc_9: 0.9691\n",
      "Epoch 74/100\n",
      "50000/50000 [==============================] - 60s 1ms/step - loss: 0.4535 - dense_22_loss: 0.0805 - dense_22_acc: 0.9947 - dense_22_acc_1: 0.9688 - dense_22_acc_2: 0.9953 - dense_22_acc_3: 0.9906 - dense_22_acc_4: 1.0000 - dense_22_acc_5: 0.9914 - dense_22_acc_6: 0.9700 - dense_22_acc_7: 1.0000 - dense_22_acc_8: 0.9866 - dense_22_acc_9: 0.9749 - val_loss: 0.4893 - val_dense_22_loss: 0.0942 - val_dense_22_acc: 0.9962 - val_dense_22_acc_1: 0.9685 - val_dense_22_acc_2: 0.9945 - val_dense_22_acc_3: 0.9904 - val_dense_22_acc_4: 1.0000 - val_dense_22_acc_5: 0.9922 - val_dense_22_acc_6: 0.9635 - val_dense_22_acc_7: 1.0000 - val_dense_22_acc_8: 0.9854 - val_dense_22_acc_9: 0.9686\n",
      "Epoch 75/100\n",
      "50000/50000 [==============================] - 60s 1ms/step - loss: 0.4501 - dense_22_loss: 0.0797 - dense_22_acc: 0.9947 - dense_22_acc_1: 0.9687 - dense_22_acc_2: 0.9953 - dense_22_acc_3: 0.9908 - dense_22_acc_4: 1.0000 - dense_22_acc_5: 0.9914 - dense_22_acc_6: 0.9697 - dense_22_acc_7: 1.0000 - dense_22_acc_8: 0.9871 - dense_22_acc_9: 0.9752 - val_loss: 0.4857 - val_dense_22_loss: 0.0934 - val_dense_22_acc: 0.9962 - val_dense_22_acc_1: 0.9682 - val_dense_22_acc_2: 0.9942 - val_dense_22_acc_3: 0.9905 - val_dense_22_acc_4: 1.0000 - val_dense_22_acc_5: 0.9924 - val_dense_22_acc_6: 0.9642 - val_dense_22_acc_7: 1.0000 - val_dense_22_acc_8: 0.9852 - val_dense_22_acc_9: 0.9690\n",
      "Epoch 76/100\n",
      "50000/50000 [==============================] - 60s 1ms/step - loss: 0.4473 - dense_22_loss: 0.0791 - dense_22_acc: 0.9947 - dense_22_acc_1: 0.9689 - dense_22_acc_2: 0.9954 - dense_22_acc_3: 0.9909 - dense_22_acc_4: 1.0000 - dense_22_acc_5: 0.9914 - dense_22_acc_6: 0.9699 - dense_22_acc_7: 1.0000 - dense_22_acc_8: 0.9870 - dense_22_acc_9: 0.9754 - val_loss: 0.4824 - val_dense_22_loss: 0.0929 - val_dense_22_acc: 0.9962 - val_dense_22_acc_1: 0.9685 - val_dense_22_acc_2: 0.9950 - val_dense_22_acc_3: 0.9904 - val_dense_22_acc_4: 1.0000 - val_dense_22_acc_5: 0.9924 - val_dense_22_acc_6: 0.9645 - val_dense_22_acc_7: 1.0000 - val_dense_22_acc_8: 0.9857 - val_dense_22_acc_9: 0.9698\n",
      "Epoch 77/100\n",
      "50000/50000 [==============================] - 60s 1ms/step - loss: 0.4444 - dense_22_loss: 0.0786 - dense_22_acc: 0.9947 - dense_22_acc_1: 0.9688 - dense_22_acc_2: 0.9955 - dense_22_acc_3: 0.9909 - dense_22_acc_4: 1.0000 - dense_22_acc_5: 0.9915 - dense_22_acc_6: 0.9704 - dense_22_acc_7: 1.0000 - dense_22_acc_8: 0.9871 - dense_22_acc_9: 0.9758 - val_loss: 0.4799 - val_dense_22_loss: 0.0924 - val_dense_22_acc: 0.9962 - val_dense_22_acc_1: 0.9686 - val_dense_22_acc_2: 0.9945 - val_dense_22_acc_3: 0.9906 - val_dense_22_acc_4: 1.0000 - val_dense_22_acc_5: 0.9925 - val_dense_22_acc_6: 0.9638 - val_dense_22_acc_7: 1.0000 - val_dense_22_acc_8: 0.9849 - val_dense_22_acc_9: 0.9696\n",
      "Epoch 78/100\n",
      "50000/50000 [==============================] - 60s 1ms/step - loss: 0.4415 - dense_22_loss: 0.0782 - dense_22_acc: 0.9947 - dense_22_acc_1: 0.9688 - dense_22_acc_2: 0.9956 - dense_22_acc_3: 0.9912 - dense_22_acc_4: 1.0000 - dense_22_acc_5: 0.9917 - dense_22_acc_6: 0.9699 - dense_22_acc_7: 1.0000 - dense_22_acc_8: 0.9872 - dense_22_acc_9: 0.9758 - val_loss: 0.4762 - val_dense_22_loss: 0.0918 - val_dense_22_acc: 0.9962 - val_dense_22_acc_1: 0.9684 - val_dense_22_acc_2: 0.9947 - val_dense_22_acc_3: 0.9913 - val_dense_22_acc_4: 1.0000 - val_dense_22_acc_5: 0.9926 - val_dense_22_acc_6: 0.9654 - val_dense_22_acc_7: 1.0000 - val_dense_22_acc_8: 0.9857 - val_dense_22_acc_9: 0.9697\n",
      "Epoch 79/100\n",
      "37504/50000 [=====================>........] - ETA: 13s - loss: 0.4430 - dense_22_loss: 0.0778 - dense_22_acc: 0.9945 - dense_22_acc_1: 0.9682 - dense_22_acc_2: 0.9958 - dense_22_acc_3: 0.9910 - dense_22_acc_4: 1.0000 - dense_22_acc_5: 0.9915 - dense_22_acc_6: 0.9702 - dense_22_acc_7: 1.0000 - dense_22_acc_8: 0.9875 - dense_22_acc_9: 0.9755Buffered data was truncated after reaching the output size limit."
     ]
    }
   ],
   "source": [
    "from keras.optimizers import Adam\n",
    "model.compile( optimizer=Adam(lr=0.005, beta_1=0.9, beta_2=0.999, decay=0.01), loss='categorical_crossentropy', metrics=['accuracy'] )\n",
    "\n",
    "s0 = np.zeros((m, n_s))\n",
    "c0 = np.zeros((m, n_s))\n",
    "\n",
    "Y = list(Y.swapaxes(0,1))\n",
    "Yt = list(Yt.swapaxes(0,1))\n",
    "\n",
    "history = model.fit( [X,s0,c0], Y, epochs=100, \n",
    "                    validation_data=([Xt,np.zeros((t, n_s)),np.zeros((t, n_s))],Yt), \n",
    "                    batch_size=128, verbose=1)\n",
    "model.save_weights('model_weights.h5')"
   ]
  },
  {
   "cell_type": "code",
   "execution_count": 0,
   "metadata": {
    "colab": {
     "base_uri": "https://localhost:8080/",
     "height": 295
    },
    "colab_type": "code",
    "id": "HmPYVv1PZnJO",
    "outputId": "8bc223e9-c938-4560-a7bc-35ed14dd87c5"
   },
   "outputs": [
    {
     "data": {
      "image/png": "[encoded data removed]",
      "text/plain": [
       "<Figure size 432x288 with 1 Axes>"
      ]
     },
     "metadata": {
      "tags": []
     },
     "output_type": "display_data"
    }
   ],
   "source": [
    "%matplotlib inline\n",
    "import matplotlib.pyplot as plt\n",
    "epoch_list = history.epoch\n",
    "plt.plot(epoch_list, history.history['loss'], label='Train Loss')\n",
    "plt.plot(epoch_list, history.history['val_loss'], label='Validation Loss')\n",
    "plt.ylabel('Loss');plt.xlabel('Epoch');plt.title('Loss')\n",
    "plt.legend(loc=\"best\");plt.grid(color='gray', linestyle='-', linewidth=0.5)"
   ]
  },
  {
   "cell_type": "code",
   "execution_count": 0,
   "metadata": {
    "colab": {
     "base_uri": "https://localhost:8080/",
     "height": 187
    },
    "colab_type": "code",
    "id": "3kPPsNOpkeKp",
    "outputId": "1e9965dc-3e4e-470c-d7ed-5110959ccbac"
   },
   "outputs": [
    {
     "name": "stdout",
     "output_type": "stream",
     "text": [
      "3 May 1979 -> 1979-05-03\n",
      "5 April 09 -> 2019-05-00\n",
      "21th of August 2016 -> 2016-08-21\n",
      "Tue 10 Jul 2007 -> 2007-07-10\n",
      "Saturday May 9 2018 -> 2018-05-09\n",
      "March 3 2001 -> 2001-03-03\n",
      "March 3rd 2001 -> 2001-03-03\n",
      "1 March 2001 -> 2001-03-01\n",
      "jun 10 2017 -> 2017-06-10\n",
      "11/07/2002 -> 2002-00-17\n"
     ]
    }
   ],
   "source": [
    "model.load_weights('model.h5')\n",
    "def getTranslation(date,model):\n",
    "  date = date.lower().replace(',','')\n",
    "  source = np.array(string_to_ohe(date, Tx, human_vocab)[0])\n",
    "  source = np.expand_dims(source,axis=0)\n",
    "  prediction = np.array(model.predict([source, s0, c0]))\n",
    "  prediction = np.squeeze(prediction.swapaxes(0,1))\n",
    "  return output_to_date(prediction,machine_vocab)\n",
    "\n",
    "EXAMPLES = ['3 May 1979', '5 April 09', '21th of August 2016', 'Tue 10 Jul 2007', 'Saturday May 9 2018', 'March 3 2001', 'March 3rd 2001', \n",
    "            '1 March 2001','jun 10 2017','11/07/2002']\n",
    "\n",
    "for example in EXAMPLES:\n",
    "    print(f\"{example} -> {getTranslation(example,model)}\")"
   ]
  },
  {
   "cell_type": "code",
   "execution_count": 0,
   "metadata": {
    "colab": {
     "base_uri": "https://localhost:8080/",
     "height": 119
    },
    "colab_type": "code",
    "id": "CSN9CyE8yiR9",
    "outputId": "45a51124-df69-4b74-e626-9fafda0066fa"
   },
   "outputs": [
    {
     "name": "stdout",
     "output_type": "stream",
     "text": [
      "Enter Date : 10th of march 1789\n",
      "Translation : 1789-03-10     Continue('y/n') :y\n",
      "Enter Date : thursday, may 10 1996\n",
      "Translation : 1996-05-10     Continue('y/n') :y\n",
      "Enter Date : august 17 2004\n",
      "Translation : 2004-08-17     Continue('y/n') :n\n"
     ]
    }
   ],
   "source": [
    "done = False\n",
    "while not done:\n",
    "  dt = input(\"Enter Date : \")\n",
    "  print(f\"Translation : {getTranslation(dt,model)}     Continue('y/n') :\",end=\"\")\n",
    "  done = input() == 'n'"
   ]
  },
  {
   "cell_type": "markdown",
   "metadata": {
    "colab": {},
    "colab_type": "code",
    "id": "aCgPpiKKWid2"
   },
   "source": [
    "## Here's what you should remember\n",
    "\n",
    "- Machine translation models can be used to map from one sequence to another. They are useful not just for translating human languages (like French->English) but also for tasks like date format translation. \n",
    "- An attention mechanism allows a network to focus on the most relevant parts of the input when producing a specific part of the output. \n",
    "- A network using an attention mechanism can translate from inputs of length $T_x$ to outputs of length $T_y$, where $T_x$ and $T_y$ can be different. \n",
    "- You can visualize attention weights $\\alpha^{\\langle t,t' \\rangle}$ to see what the network is paying attention to while generating each output.\n",
    "- Attention model is used to learn complex mappings from one sequence to another."
   ]
  },
  {
   "cell_type": "code",
   "execution_count": null,
   "metadata": {},
   "outputs": [],
   "source": []
  }
 ],
 "metadata": {
  "accelerator": "GPU",
  "colab": {
   "collapsed_sections": [],
   "name": "Attention-Based-Machine-Translation.ipynb",
   "provenance": [],
   "toc_visible": true,
   "version": "0.3.2"
  },
  "hide_input": false,
  "kernelspec": {
   "display_name": "Python 3",
   "language": "python",
   "name": "python3"
  },
  "language_info": {
   "codemirror_mode": {
    "name": "ipython",
    "version": 3
   },
   "file_extension": ".py",
   "mimetype": "text/x-python",
   "name": "python",
   "nbconvert_exporter": "python",
   "pygments_lexer": "ipython3",
   "version": "3.7.3"
  },
  "toc": {
   "base_numbering": 1,
   "nav_menu": {},
   "number_sections": true,
   "sideBar": true,
   "skip_h1_title": false,
   "title_cell": "Table of Contents",
   "title_sidebar": "Contents",
   "toc_cell": false,
   "toc_position": {},
   "toc_section_display": true,
   "toc_window_display": false
  },
  "varInspector": {
   "cols": {
    "lenName": 16,
    "lenType": 16,
    "lenVar": 40
   },
   "kernels_config": {
    "python": {
     "delete_cmd_postfix": "",
     "delete_cmd_prefix": "del ",
     "library": "var_list.py",
     "varRefreshCmd": "print(var_dic_list())"
    },
    "r": {
     "delete_cmd_postfix": ") ",
     "delete_cmd_prefix": "rm(",
     "library": "var_list.r",
     "varRefreshCmd": "cat(var_dic_list()) "
    }
   },
   "types_to_exclude": [
    "module",
    "function",
    "builtin_function_or_method",
    "instance",
    "_Feature"
   ],
   "window_display": false
  }
 },
 "nbformat": 4,
 "nbformat_minor": 1
}
